{
 "cells": [
  {
   "cell_type": "markdown",
   "id": "27f6f7ae",
   "metadata": {
    "id": "27f6f7ae"
   },
   "source": [
    "# Importing basic libraries"
   ]
  },
  {
   "cell_type": "code",
   "execution_count": null,
   "id": "ed5fc6e9",
   "metadata": {
    "id": "ed5fc6e9"
   },
   "outputs": [],
   "source": [
    "import os, sys\n",
    "import numpy as np\n",
    "import pandas as pd\n",
    "import matplotlib.pyplot as plt\n",
    "%matplotlib inline\n",
    "import seaborn as sns\n",
    "sns.set()\n",
    "import warnings\n",
    "warnings.filterwarnings('ignore')"
   ]
  },
  {
   "cell_type": "markdown",
   "id": "8b9883e5",
   "metadata": {
    "id": "8b9883e5"
   },
   "source": [
    "# Loading the dataset"
   ]
  },
  {
   "cell_type": "code",
   "execution_count": null,
   "id": "2e30f9d6",
   "metadata": {
    "id": "2e30f9d6"
   },
   "outputs": [],
   "source": [
    "df = pd.read_excel('EDA Cars.xlsx')"
   ]
  },
  {
   "cell_type": "markdown",
   "id": "5e3fee2e",
   "metadata": {
    "id": "5e3fee2e"
   },
   "source": [
    "### head of the dataset\n",
    "### tail of the dataset\n",
    "### info of the dataset\n",
    "### shape of the dataset\n",
    "### summary of the dataset"
   ]
  },
  {
   "cell_type": "code",
   "execution_count": null,
   "id": "dea905bf",
   "metadata": {
    "id": "dea905bf",
    "outputId": "f5efb5d6-85e5-4a53-9f91-98c4cbf11845"
   },
   "outputs": [
    {
     "data": {
      "text/html": [
       "<div>\n",
       "<style scoped>\n",
       "    .dataframe tbody tr th:only-of-type {\n",
       "        vertical-align: middle;\n",
       "    }\n",
       "\n",
       "    .dataframe tbody tr th {\n",
       "        vertical-align: top;\n",
       "    }\n",
       "\n",
       "    .dataframe thead th {\n",
       "        text-align: right;\n",
       "    }\n",
       "</style>\n",
       "<table border=\"1\" class=\"dataframe\">\n",
       "  <thead>\n",
       "    <tr style=\"text-align: right;\">\n",
       "      <th></th>\n",
       "      <th>INDEX</th>\n",
       "      <th>INCOME</th>\n",
       "      <th>MARITAL STATUS</th>\n",
       "      <th>SEX</th>\n",
       "      <th>EDUCATION</th>\n",
       "      <th>JOB</th>\n",
       "      <th>TRAVEL TIME</th>\n",
       "      <th>USE</th>\n",
       "      <th>MILES CLOCKED</th>\n",
       "      <th>CAR TYPE</th>\n",
       "      <th>CAR AGE</th>\n",
       "      <th>CITY</th>\n",
       "      <th>POSTAL CODE</th>\n",
       "    </tr>\n",
       "  </thead>\n",
       "  <tbody>\n",
       "    <tr>\n",
       "      <th>0</th>\n",
       "      <td>1</td>\n",
       "      <td>125301.24250</td>\n",
       "      <td>No</td>\n",
       "      <td>F</td>\n",
       "      <td>Bachelors</td>\n",
       "      <td>Blue Collar</td>\n",
       "      <td>45.703013</td>\n",
       "      <td>Commercial</td>\n",
       "      <td>17430.0</td>\n",
       "      <td>Sports Car</td>\n",
       "      <td>7.0</td>\n",
       "      <td>Texas</td>\n",
       "      <td>42420.0</td>\n",
       "    </tr>\n",
       "    <tr>\n",
       "      <th>1</th>\n",
       "      <td>2</td>\n",
       "      <td>50815.44531</td>\n",
       "      <td>No</td>\n",
       "      <td>M</td>\n",
       "      <td>High School</td>\n",
       "      <td>NaN</td>\n",
       "      <td>20.591628</td>\n",
       "      <td>Private</td>\n",
       "      <td>18930.0</td>\n",
       "      <td>Minivan</td>\n",
       "      <td>1.0</td>\n",
       "      <td>Texas</td>\n",
       "      <td>42420.0</td>\n",
       "    </tr>\n",
       "    <tr>\n",
       "      <th>2</th>\n",
       "      <td>3</td>\n",
       "      <td>62977.82416</td>\n",
       "      <td>NaN</td>\n",
       "      <td>F</td>\n",
       "      <td>Bachelors</td>\n",
       "      <td>Clerical</td>\n",
       "      <td>33.639949</td>\n",
       "      <td>Private</td>\n",
       "      <td>NaN</td>\n",
       "      <td>SUV</td>\n",
       "      <td>1.0</td>\n",
       "      <td>Texas</td>\n",
       "      <td>42420.0</td>\n",
       "    </tr>\n",
       "    <tr>\n",
       "      <th>3</th>\n",
       "      <td>4</td>\n",
       "      <td>77099.96624</td>\n",
       "      <td>No</td>\n",
       "      <td>F</td>\n",
       "      <td>NaN</td>\n",
       "      <td>Lawyer</td>\n",
       "      <td>15.415676</td>\n",
       "      <td>NaN</td>\n",
       "      <td>18300.0</td>\n",
       "      <td>Sports Car</td>\n",
       "      <td>11.0</td>\n",
       "      <td>Texas</td>\n",
       "      <td>42420.0</td>\n",
       "    </tr>\n",
       "    <tr>\n",
       "      <th>4</th>\n",
       "      <td>5</td>\n",
       "      <td>130794.57420</td>\n",
       "      <td>No</td>\n",
       "      <td>M</td>\n",
       "      <td>High School</td>\n",
       "      <td>NaN</td>\n",
       "      <td>NaN</td>\n",
       "      <td>Commercial</td>\n",
       "      <td>28340.0</td>\n",
       "      <td>Panel Truck</td>\n",
       "      <td>10.0</td>\n",
       "      <td>Texas</td>\n",
       "      <td>42420.0</td>\n",
       "    </tr>\n",
       "  </tbody>\n",
       "</table>\n",
       "</div>"
      ],
      "text/plain": [
       "   INDEX        INCOME MARITAL STATUS SEX    EDUCATION          JOB  \\\n",
       "0      1  125301.24250             No   F    Bachelors  Blue Collar   \n",
       "1      2   50815.44531             No   M  High School          NaN   \n",
       "2      3   62977.82416            NaN   F    Bachelors     Clerical   \n",
       "3      4   77099.96624             No   F          NaN       Lawyer   \n",
       "4      5  130794.57420             No   M  High School          NaN   \n",
       "\n",
       "   TRAVEL TIME         USE  MILES CLOCKED     CAR TYPE  CAR AGE   CITY  \\\n",
       "0    45.703013  Commercial        17430.0   Sports Car      7.0  Texas   \n",
       "1    20.591628     Private        18930.0      Minivan      1.0  Texas   \n",
       "2    33.639949     Private            NaN          SUV      1.0  Texas   \n",
       "3    15.415676         NaN        18300.0   Sports Car     11.0  Texas   \n",
       "4          NaN  Commercial        28340.0  Panel Truck     10.0  Texas   \n",
       "\n",
       "  POSTAL CODE  \n",
       "0     42420.0  \n",
       "1     42420.0  \n",
       "2     42420.0  \n",
       "3     42420.0  \n",
       "4     42420.0  "
      ]
     },
     "execution_count": 11,
     "metadata": {},
     "output_type": "execute_result"
    }
   ],
   "source": [
    "df.head()"
   ]
  },
  {
   "cell_type": "code",
   "execution_count": null,
   "id": "8ac7d46d",
   "metadata": {
    "id": "8ac7d46d"
   },
   "outputs": [],
   "source": [
    "df.tail()"
   ]
  },
  {
   "cell_type": "code",
   "execution_count": null,
   "id": "b8a06087",
   "metadata": {
    "id": "b8a06087"
   },
   "outputs": [],
   "source": [
    "df.info()"
   ]
  },
  {
   "cell_type": "code",
   "execution_count": null,
   "id": "3038c134",
   "metadata": {
    "id": "3038c134",
    "outputId": "1f91e3f4-efe6-479d-aa41-ee03c2d87c72"
   },
   "outputs": [
    {
     "data": {
      "text/plain": [
       "(303, 13)"
      ]
     },
     "execution_count": 6,
     "metadata": {},
     "output_type": "execute_result"
    }
   ],
   "source": [
    "df.shape"
   ]
  },
  {
   "cell_type": "code",
   "execution_count": null,
   "id": "a0bcca3f",
   "metadata": {
    "id": "a0bcca3f"
   },
   "outputs": [],
   "source": [
    "# Converting postel code into category\n",
    "df['POSTAL CODE'] = pd.Categorical(df['POSTAL CODE'])"
   ]
  },
  {
   "cell_type": "code",
   "execution_count": null,
   "id": "15279c4d",
   "metadata": {
    "id": "15279c4d",
    "outputId": "5a3edf14-620b-4e8e-b73e-64af35cfcd13"
   },
   "outputs": [
    {
     "data": {
      "text/html": [
       "<div>\n",
       "<style scoped>\n",
       "    .dataframe tbody tr th:only-of-type {\n",
       "        vertical-align: middle;\n",
       "    }\n",
       "\n",
       "    .dataframe tbody tr th {\n",
       "        vertical-align: top;\n",
       "    }\n",
       "\n",
       "    .dataframe thead th {\n",
       "        text-align: right;\n",
       "    }\n",
       "</style>\n",
       "<table border=\"1\" class=\"dataframe\">\n",
       "  <thead>\n",
       "    <tr style=\"text-align: right;\">\n",
       "      <th></th>\n",
       "      <th>INDEX</th>\n",
       "      <th>INCOME</th>\n",
       "      <th>TRAVEL TIME</th>\n",
       "      <th>MILES CLOCKED</th>\n",
       "      <th>CAR AGE</th>\n",
       "    </tr>\n",
       "  </thead>\n",
       "  <tbody>\n",
       "    <tr>\n",
       "      <th>count</th>\n",
       "      <td>303.000000</td>\n",
       "      <td>260.000000</td>\n",
       "      <td>262.000000</td>\n",
       "      <td>278.000000</td>\n",
       "      <td>283.000000</td>\n",
       "    </tr>\n",
       "    <tr>\n",
       "      <th>mean</th>\n",
       "      <td>139.640264</td>\n",
       "      <td>50025.162170</td>\n",
       "      <td>34.282098</td>\n",
       "      <td>13591.978417</td>\n",
       "      <td>6.265018</td>\n",
       "    </tr>\n",
       "    <tr>\n",
       "      <th>std</th>\n",
       "      <td>85.178422</td>\n",
       "      <td>41186.807914</td>\n",
       "      <td>14.910178</td>\n",
       "      <td>7167.328655</td>\n",
       "      <td>5.111218</td>\n",
       "    </tr>\n",
       "    <tr>\n",
       "      <th>min</th>\n",
       "      <td>1.000000</td>\n",
       "      <td>0.000000</td>\n",
       "      <td>5.000000</td>\n",
       "      <td>1500.000000</td>\n",
       "      <td>1.000000</td>\n",
       "    </tr>\n",
       "    <tr>\n",
       "      <th>25%</th>\n",
       "      <td>62.500000</td>\n",
       "      <td>20452.885023</td>\n",
       "      <td>24.449874</td>\n",
       "      <td>7900.000000</td>\n",
       "      <td>1.000000</td>\n",
       "    </tr>\n",
       "    <tr>\n",
       "      <th>50%</th>\n",
       "      <td>138.000000</td>\n",
       "      <td>44571.590870</td>\n",
       "      <td>33.564757</td>\n",
       "      <td>12065.000000</td>\n",
       "      <td>6.000000</td>\n",
       "    </tr>\n",
       "    <tr>\n",
       "      <th>75%</th>\n",
       "      <td>213.500000</td>\n",
       "      <td>66485.761387</td>\n",
       "      <td>43.907339</td>\n",
       "      <td>18240.000000</td>\n",
       "      <td>10.000000</td>\n",
       "    </tr>\n",
       "    <tr>\n",
       "      <th>max</th>\n",
       "      <td>289.000000</td>\n",
       "      <td>204667.589700</td>\n",
       "      <td>83.617643</td>\n",
       "      <td>38000.000000</td>\n",
       "      <td>20.000000</td>\n",
       "    </tr>\n",
       "  </tbody>\n",
       "</table>\n",
       "</div>"
      ],
      "text/plain": [
       "            INDEX         INCOME  TRAVEL TIME  MILES CLOCKED     CAR AGE\n",
       "count  303.000000     260.000000   262.000000     278.000000  283.000000\n",
       "mean   139.640264   50025.162170    34.282098   13591.978417    6.265018\n",
       "std     85.178422   41186.807914    14.910178    7167.328655    5.111218\n",
       "min      1.000000       0.000000     5.000000    1500.000000    1.000000\n",
       "25%     62.500000   20452.885023    24.449874    7900.000000    1.000000\n",
       "50%    138.000000   44571.590870    33.564757   12065.000000    6.000000\n",
       "75%    213.500000   66485.761387    43.907339   18240.000000   10.000000\n",
       "max    289.000000  204667.589700    83.617643   38000.000000   20.000000"
      ]
     },
     "execution_count": 9,
     "metadata": {},
     "output_type": "execute_result"
    }
   ],
   "source": [
    "df.describe()"
   ]
  },
  {
   "cell_type": "markdown",
   "id": "5e73419c",
   "metadata": {
    "id": "5e73419c"
   },
   "source": [
    "# Check for Duplicate records "
   ]
  },
  {
   "cell_type": "code",
   "execution_count": null,
   "id": "509e5336",
   "metadata": {
    "id": "509e5336",
    "outputId": "7050b92b-15ee-404d-d823-59ede4149e33"
   },
   "outputs": [
    {
     "name": "stdout",
     "output_type": "stream",
     "text": [
      "Number of duplicate rows = 14\n"
     ]
    },
    {
     "data": {
      "text/html": [
       "<div>\n",
       "<style scoped>\n",
       "    .dataframe tbody tr th:only-of-type {\n",
       "        vertical-align: middle;\n",
       "    }\n",
       "\n",
       "    .dataframe tbody tr th {\n",
       "        vertical-align: top;\n",
       "    }\n",
       "\n",
       "    .dataframe thead th {\n",
       "        text-align: right;\n",
       "    }\n",
       "</style>\n",
       "<table border=\"1\" class=\"dataframe\">\n",
       "  <thead>\n",
       "    <tr style=\"text-align: right;\">\n",
       "      <th></th>\n",
       "      <th>INDEX</th>\n",
       "      <th>INCOME</th>\n",
       "      <th>MARITAL STATUS</th>\n",
       "      <th>SEX</th>\n",
       "      <th>EDUCATION</th>\n",
       "      <th>JOB</th>\n",
       "      <th>TRAVEL TIME</th>\n",
       "      <th>USE</th>\n",
       "      <th>MILES CLOCKED</th>\n",
       "      <th>CAR TYPE</th>\n",
       "      <th>CAR AGE</th>\n",
       "      <th>CITY</th>\n",
       "      <th>POSTAL CODE</th>\n",
       "    </tr>\n",
       "  </thead>\n",
       "  <tbody>\n",
       "    <tr>\n",
       "      <th>69</th>\n",
       "      <td>29</td>\n",
       "      <td>64013.81632</td>\n",
       "      <td>Yes</td>\n",
       "      <td>M</td>\n",
       "      <td>High School</td>\n",
       "      <td>Blue Collar</td>\n",
       "      <td>32.717234</td>\n",
       "      <td>Commercial</td>\n",
       "      <td>7900.0</td>\n",
       "      <td>Pickup</td>\n",
       "      <td>5.0</td>\n",
       "      <td>Los Angeles</td>\n",
       "      <td>90049.0</td>\n",
       "    </tr>\n",
       "    <tr>\n",
       "      <th>70</th>\n",
       "      <td>29</td>\n",
       "      <td>64013.81632</td>\n",
       "      <td>Yes</td>\n",
       "      <td>M</td>\n",
       "      <td>High School</td>\n",
       "      <td>Blue Collar</td>\n",
       "      <td>32.717234</td>\n",
       "      <td>Commercial</td>\n",
       "      <td>7900.0</td>\n",
       "      <td>Pickup</td>\n",
       "      <td>5.0</td>\n",
       "      <td>Los Angeles</td>\n",
       "      <td>90049.0</td>\n",
       "    </tr>\n",
       "    <tr>\n",
       "      <th>71</th>\n",
       "      <td>29</td>\n",
       "      <td>64013.81632</td>\n",
       "      <td>Yes</td>\n",
       "      <td>M</td>\n",
       "      <td>High School</td>\n",
       "      <td>Blue Collar</td>\n",
       "      <td>32.717234</td>\n",
       "      <td>Commercial</td>\n",
       "      <td>7900.0</td>\n",
       "      <td>Pickup</td>\n",
       "      <td>5.0</td>\n",
       "      <td>Los Angeles</td>\n",
       "      <td>90049.0</td>\n",
       "    </tr>\n",
       "    <tr>\n",
       "      <th>72</th>\n",
       "      <td>29</td>\n",
       "      <td>64013.81632</td>\n",
       "      <td>Yes</td>\n",
       "      <td>M</td>\n",
       "      <td>High School</td>\n",
       "      <td>Blue Collar</td>\n",
       "      <td>32.717234</td>\n",
       "      <td>Commercial</td>\n",
       "      <td>7900.0</td>\n",
       "      <td>Pickup</td>\n",
       "      <td>5.0</td>\n",
       "      <td>Los Angeles</td>\n",
       "      <td>90049.0</td>\n",
       "    </tr>\n",
       "    <tr>\n",
       "      <th>73</th>\n",
       "      <td>29</td>\n",
       "      <td>64013.81632</td>\n",
       "      <td>Yes</td>\n",
       "      <td>M</td>\n",
       "      <td>High School</td>\n",
       "      <td>Blue Collar</td>\n",
       "      <td>32.717234</td>\n",
       "      <td>Commercial</td>\n",
       "      <td>7900.0</td>\n",
       "      <td>Pickup</td>\n",
       "      <td>5.0</td>\n",
       "      <td>Los Angeles</td>\n",
       "      <td>90049.0</td>\n",
       "    </tr>\n",
       "    <tr>\n",
       "      <th>74</th>\n",
       "      <td>29</td>\n",
       "      <td>64013.81632</td>\n",
       "      <td>Yes</td>\n",
       "      <td>M</td>\n",
       "      <td>High School</td>\n",
       "      <td>Blue Collar</td>\n",
       "      <td>32.717234</td>\n",
       "      <td>Commercial</td>\n",
       "      <td>7900.0</td>\n",
       "      <td>Pickup</td>\n",
       "      <td>5.0</td>\n",
       "      <td>Los Angeles</td>\n",
       "      <td>90049.0</td>\n",
       "    </tr>\n",
       "    <tr>\n",
       "      <th>75</th>\n",
       "      <td>29</td>\n",
       "      <td>64013.81632</td>\n",
       "      <td>Yes</td>\n",
       "      <td>M</td>\n",
       "      <td>High School</td>\n",
       "      <td>Blue Collar</td>\n",
       "      <td>32.717234</td>\n",
       "      <td>Commercial</td>\n",
       "      <td>7900.0</td>\n",
       "      <td>Pickup</td>\n",
       "      <td>5.0</td>\n",
       "      <td>Los Angeles</td>\n",
       "      <td>90049.0</td>\n",
       "    </tr>\n",
       "    <tr>\n",
       "      <th>76</th>\n",
       "      <td>29</td>\n",
       "      <td>64013.81632</td>\n",
       "      <td>Yes</td>\n",
       "      <td>M</td>\n",
       "      <td>High School</td>\n",
       "      <td>Blue Collar</td>\n",
       "      <td>32.717234</td>\n",
       "      <td>Commercial</td>\n",
       "      <td>7900.0</td>\n",
       "      <td>Pickup</td>\n",
       "      <td>5.0</td>\n",
       "      <td>Los Angeles</td>\n",
       "      <td>90049.0</td>\n",
       "    </tr>\n",
       "    <tr>\n",
       "      <th>77</th>\n",
       "      <td>29</td>\n",
       "      <td>64013.81632</td>\n",
       "      <td>Yes</td>\n",
       "      <td>M</td>\n",
       "      <td>High School</td>\n",
       "      <td>Blue Collar</td>\n",
       "      <td>32.717234</td>\n",
       "      <td>Commercial</td>\n",
       "      <td>7900.0</td>\n",
       "      <td>Pickup</td>\n",
       "      <td>5.0</td>\n",
       "      <td>Los Angeles</td>\n",
       "      <td>90049.0</td>\n",
       "    </tr>\n",
       "    <tr>\n",
       "      <th>78</th>\n",
       "      <td>29</td>\n",
       "      <td>64013.81632</td>\n",
       "      <td>Yes</td>\n",
       "      <td>M</td>\n",
       "      <td>High School</td>\n",
       "      <td>Blue Collar</td>\n",
       "      <td>32.717234</td>\n",
       "      <td>Commercial</td>\n",
       "      <td>7900.0</td>\n",
       "      <td>Pickup</td>\n",
       "      <td>5.0</td>\n",
       "      <td>Los Angeles</td>\n",
       "      <td>90049.0</td>\n",
       "    </tr>\n",
       "    <tr>\n",
       "      <th>79</th>\n",
       "      <td>29</td>\n",
       "      <td>64013.81632</td>\n",
       "      <td>Yes</td>\n",
       "      <td>M</td>\n",
       "      <td>High School</td>\n",
       "      <td>Blue Collar</td>\n",
       "      <td>32.717234</td>\n",
       "      <td>Commercial</td>\n",
       "      <td>7900.0</td>\n",
       "      <td>Pickup</td>\n",
       "      <td>5.0</td>\n",
       "      <td>Los Angeles</td>\n",
       "      <td>90049.0</td>\n",
       "    </tr>\n",
       "    <tr>\n",
       "      <th>80</th>\n",
       "      <td>29</td>\n",
       "      <td>64013.81632</td>\n",
       "      <td>Yes</td>\n",
       "      <td>M</td>\n",
       "      <td>High School</td>\n",
       "      <td>Blue Collar</td>\n",
       "      <td>32.717234</td>\n",
       "      <td>Commercial</td>\n",
       "      <td>7900.0</td>\n",
       "      <td>Pickup</td>\n",
       "      <td>5.0</td>\n",
       "      <td>Los Angeles</td>\n",
       "      <td>90049.0</td>\n",
       "    </tr>\n",
       "    <tr>\n",
       "      <th>81</th>\n",
       "      <td>29</td>\n",
       "      <td>64013.81632</td>\n",
       "      <td>Yes</td>\n",
       "      <td>M</td>\n",
       "      <td>High School</td>\n",
       "      <td>Blue Collar</td>\n",
       "      <td>32.717234</td>\n",
       "      <td>Commercial</td>\n",
       "      <td>7900.0</td>\n",
       "      <td>Pickup</td>\n",
       "      <td>5.0</td>\n",
       "      <td>Los Angeles</td>\n",
       "      <td>90049.0</td>\n",
       "    </tr>\n",
       "    <tr>\n",
       "      <th>82</th>\n",
       "      <td>29</td>\n",
       "      <td>64013.81632</td>\n",
       "      <td>Yes</td>\n",
       "      <td>M</td>\n",
       "      <td>High School</td>\n",
       "      <td>Blue Collar</td>\n",
       "      <td>32.717234</td>\n",
       "      <td>Commercial</td>\n",
       "      <td>7900.0</td>\n",
       "      <td>Pickup</td>\n",
       "      <td>5.0</td>\n",
       "      <td>Los Angeles</td>\n",
       "      <td>90049.0</td>\n",
       "    </tr>\n",
       "  </tbody>\n",
       "</table>\n",
       "</div>"
      ],
      "text/plain": [
       "    INDEX       INCOME MARITAL STATUS SEX    EDUCATION          JOB  \\\n",
       "69     29  64013.81632            Yes   M  High School  Blue Collar   \n",
       "70     29  64013.81632            Yes   M  High School  Blue Collar   \n",
       "71     29  64013.81632            Yes   M  High School  Blue Collar   \n",
       "72     29  64013.81632            Yes   M  High School  Blue Collar   \n",
       "73     29  64013.81632            Yes   M  High School  Blue Collar   \n",
       "74     29  64013.81632            Yes   M  High School  Blue Collar   \n",
       "75     29  64013.81632            Yes   M  High School  Blue Collar   \n",
       "76     29  64013.81632            Yes   M  High School  Blue Collar   \n",
       "77     29  64013.81632            Yes   M  High School  Blue Collar   \n",
       "78     29  64013.81632            Yes   M  High School  Blue Collar   \n",
       "79     29  64013.81632            Yes   M  High School  Blue Collar   \n",
       "80     29  64013.81632            Yes   M  High School  Blue Collar   \n",
       "81     29  64013.81632            Yes   M  High School  Blue Collar   \n",
       "82     29  64013.81632            Yes   M  High School  Blue Collar   \n",
       "\n",
       "    TRAVEL TIME         USE  MILES CLOCKED CAR TYPE  CAR AGE         CITY  \\\n",
       "69    32.717234  Commercial         7900.0   Pickup      5.0  Los Angeles   \n",
       "70    32.717234  Commercial         7900.0   Pickup      5.0  Los Angeles   \n",
       "71    32.717234  Commercial         7900.0   Pickup      5.0  Los Angeles   \n",
       "72    32.717234  Commercial         7900.0   Pickup      5.0  Los Angeles   \n",
       "73    32.717234  Commercial         7900.0   Pickup      5.0  Los Angeles   \n",
       "74    32.717234  Commercial         7900.0   Pickup      5.0  Los Angeles   \n",
       "75    32.717234  Commercial         7900.0   Pickup      5.0  Los Angeles   \n",
       "76    32.717234  Commercial         7900.0   Pickup      5.0  Los Angeles   \n",
       "77    32.717234  Commercial         7900.0   Pickup      5.0  Los Angeles   \n",
       "78    32.717234  Commercial         7900.0   Pickup      5.0  Los Angeles   \n",
       "79    32.717234  Commercial         7900.0   Pickup      5.0  Los Angeles   \n",
       "80    32.717234  Commercial         7900.0   Pickup      5.0  Los Angeles   \n",
       "81    32.717234  Commercial         7900.0   Pickup      5.0  Los Angeles   \n",
       "82    32.717234  Commercial         7900.0   Pickup      5.0  Los Angeles   \n",
       "\n",
       "   POSTAL CODE  \n",
       "69     90049.0  \n",
       "70     90049.0  \n",
       "71     90049.0  \n",
       "72     90049.0  \n",
       "73     90049.0  \n",
       "74     90049.0  \n",
       "75     90049.0  \n",
       "76     90049.0  \n",
       "77     90049.0  \n",
       "78     90049.0  \n",
       "79     90049.0  \n",
       "80     90049.0  \n",
       "81     90049.0  \n",
       "82     90049.0  "
      ]
     },
     "execution_count": 12,
     "metadata": {},
     "output_type": "execute_result"
    }
   ],
   "source": [
    "dups = df.duplicated()\n",
    "print(\"Number of duplicate rows = %d\" % (dups.sum()))\n",
    "df[dups]"
   ]
  },
  {
   "cell_type": "code",
   "execution_count": null,
   "id": "d0a0b39e",
   "metadata": {
    "id": "d0a0b39e"
   },
   "outputs": [],
   "source": [
    "df.drop_duplicates(inplace=True)"
   ]
  },
  {
   "cell_type": "code",
   "execution_count": null,
   "id": "66f865ec",
   "metadata": {
    "id": "66f865ec",
    "outputId": "faea1485-aacc-4153-c9a7-82764de68cce"
   },
   "outputs": [
    {
     "name": "stdout",
     "output_type": "stream",
     "text": [
      "Number of duplicate rows = 0\n"
     ]
    },
    {
     "data": {
      "text/html": [
       "<div>\n",
       "<style scoped>\n",
       "    .dataframe tbody tr th:only-of-type {\n",
       "        vertical-align: middle;\n",
       "    }\n",
       "\n",
       "    .dataframe tbody tr th {\n",
       "        vertical-align: top;\n",
       "    }\n",
       "\n",
       "    .dataframe thead th {\n",
       "        text-align: right;\n",
       "    }\n",
       "</style>\n",
       "<table border=\"1\" class=\"dataframe\">\n",
       "  <thead>\n",
       "    <tr style=\"text-align: right;\">\n",
       "      <th></th>\n",
       "      <th>INDEX</th>\n",
       "      <th>INCOME</th>\n",
       "      <th>MARITAL STATUS</th>\n",
       "      <th>SEX</th>\n",
       "      <th>EDUCATION</th>\n",
       "      <th>JOB</th>\n",
       "      <th>TRAVEL TIME</th>\n",
       "      <th>USE</th>\n",
       "      <th>MILES CLOCKED</th>\n",
       "      <th>CAR TYPE</th>\n",
       "      <th>CAR AGE</th>\n",
       "      <th>CITY</th>\n",
       "      <th>POSTAL CODE</th>\n",
       "    </tr>\n",
       "  </thead>\n",
       "  <tbody>\n",
       "  </tbody>\n",
       "</table>\n",
       "</div>"
      ],
      "text/plain": [
       "Empty DataFrame\n",
       "Columns: [INDEX, INCOME, MARITAL STATUS, SEX, EDUCATION, JOB, TRAVEL TIME, USE, MILES CLOCKED, CAR TYPE, CAR AGE, CITY, POSTAL CODE]\n",
       "Index: []"
      ]
     },
     "execution_count": 14,
     "metadata": {},
     "output_type": "execute_result"
    }
   ],
   "source": [
    "dups = df.duplicated()\n",
    "print(\"Number of duplicate rows = %d\" % (dups.sum()))\n",
    "df[dups]"
   ]
  },
  {
   "cell_type": "code",
   "execution_count": null,
   "id": "0b4feac2",
   "metadata": {
    "id": "0b4feac2",
    "outputId": "74cad363-c986-4d57-9231-bdab96754278"
   },
   "outputs": [
    {
     "name": "stdout",
     "output_type": "stream",
     "text": [
      "(289, 13)\n"
     ]
    }
   ],
   "source": [
    "print(df.shape)"
   ]
  },
  {
   "cell_type": "code",
   "execution_count": null,
   "id": "4ba4bb93",
   "metadata": {
    "id": "4ba4bb93",
    "outputId": "975270a8-a328-4650-be10-ccf63b240064"
   },
   "outputs": [
    {
     "data": {
      "text/plain": [
       "INDEX              0.000000\n",
       "INCOME            14.878893\n",
       "MARITAL STATUS     9.688581\n",
       "SEX                2.076125\n",
       "EDUCATION         15.224913\n",
       "JOB               15.916955\n",
       "TRAVEL TIME       14.186851\n",
       "USE               18.339100\n",
       "MILES CLOCKED      8.650519\n",
       "CAR TYPE           3.460208\n",
       "CAR AGE            6.920415\n",
       "CITY               2.076125\n",
       "POSTAL CODE        1.038062\n",
       "dtype: float64"
      ]
     },
     "execution_count": 18,
     "metadata": {},
     "output_type": "execute_result"
    }
   ],
   "source": [
    "# Handling missing data\n",
    "df.isnull().sum() / len(df)*100"
   ]
  },
  {
   "cell_type": "code",
   "execution_count": null,
   "id": "469948d0",
   "metadata": {
    "id": "469948d0",
    "outputId": "662d6881-0d0a-4143-9e02-efba8f0b3bd3"
   },
   "outputs": [
    {
     "data": {
      "text/html": [
       "<div>\n",
       "<style scoped>\n",
       "    .dataframe tbody tr th:only-of-type {\n",
       "        vertical-align: middle;\n",
       "    }\n",
       "\n",
       "    .dataframe tbody tr th {\n",
       "        vertical-align: top;\n",
       "    }\n",
       "\n",
       "    .dataframe thead th {\n",
       "        text-align: right;\n",
       "    }\n",
       "</style>\n",
       "<table border=\"1\" class=\"dataframe\">\n",
       "  <thead>\n",
       "    <tr style=\"text-align: right;\">\n",
       "      <th></th>\n",
       "      <th>INDEX</th>\n",
       "      <th>INCOME</th>\n",
       "      <th>MARITAL STATUS</th>\n",
       "      <th>SEX</th>\n",
       "      <th>EDUCATION</th>\n",
       "      <th>JOB</th>\n",
       "      <th>TRAVEL TIME</th>\n",
       "      <th>USE</th>\n",
       "      <th>MILES CLOCKED</th>\n",
       "      <th>CAR TYPE</th>\n",
       "      <th>CAR AGE</th>\n",
       "      <th>CITY</th>\n",
       "      <th>POSTAL CODE</th>\n",
       "    </tr>\n",
       "  </thead>\n",
       "  <tbody>\n",
       "    <tr>\n",
       "      <th>0</th>\n",
       "      <td>1</td>\n",
       "      <td>125301.24250</td>\n",
       "      <td>No</td>\n",
       "      <td>F</td>\n",
       "      <td>Bachelors</td>\n",
       "      <td>Blue Collar</td>\n",
       "      <td>45.703013</td>\n",
       "      <td>Commercial</td>\n",
       "      <td>17430.0</td>\n",
       "      <td>Sports Car</td>\n",
       "      <td>7.0</td>\n",
       "      <td>Texas</td>\n",
       "      <td>42420.0</td>\n",
       "    </tr>\n",
       "    <tr>\n",
       "      <th>1</th>\n",
       "      <td>2</td>\n",
       "      <td>50815.44531</td>\n",
       "      <td>No</td>\n",
       "      <td>M</td>\n",
       "      <td>High School</td>\n",
       "      <td>NaN</td>\n",
       "      <td>20.591628</td>\n",
       "      <td>Private</td>\n",
       "      <td>18930.0</td>\n",
       "      <td>Minivan</td>\n",
       "      <td>1.0</td>\n",
       "      <td>Texas</td>\n",
       "      <td>42420.0</td>\n",
       "    </tr>\n",
       "    <tr>\n",
       "      <th>2</th>\n",
       "      <td>3</td>\n",
       "      <td>62977.82416</td>\n",
       "      <td>NaN</td>\n",
       "      <td>F</td>\n",
       "      <td>Bachelors</td>\n",
       "      <td>Clerical</td>\n",
       "      <td>33.639949</td>\n",
       "      <td>Private</td>\n",
       "      <td>NaN</td>\n",
       "      <td>SUV</td>\n",
       "      <td>1.0</td>\n",
       "      <td>Texas</td>\n",
       "      <td>42420.0</td>\n",
       "    </tr>\n",
       "    <tr>\n",
       "      <th>3</th>\n",
       "      <td>4</td>\n",
       "      <td>77099.96624</td>\n",
       "      <td>No</td>\n",
       "      <td>F</td>\n",
       "      <td>NaN</td>\n",
       "      <td>Lawyer</td>\n",
       "      <td>15.415676</td>\n",
       "      <td>NaN</td>\n",
       "      <td>18300.0</td>\n",
       "      <td>Sports Car</td>\n",
       "      <td>11.0</td>\n",
       "      <td>Texas</td>\n",
       "      <td>42420.0</td>\n",
       "    </tr>\n",
       "    <tr>\n",
       "      <th>4</th>\n",
       "      <td>5</td>\n",
       "      <td>130794.57420</td>\n",
       "      <td>No</td>\n",
       "      <td>M</td>\n",
       "      <td>High School</td>\n",
       "      <td>NaN</td>\n",
       "      <td>NaN</td>\n",
       "      <td>Commercial</td>\n",
       "      <td>28340.0</td>\n",
       "      <td>Panel Truck</td>\n",
       "      <td>10.0</td>\n",
       "      <td>Texas</td>\n",
       "      <td>42420.0</td>\n",
       "    </tr>\n",
       "  </tbody>\n",
       "</table>\n",
       "</div>"
      ],
      "text/plain": [
       "   INDEX        INCOME MARITAL STATUS SEX    EDUCATION          JOB  \\\n",
       "0      1  125301.24250             No   F    Bachelors  Blue Collar   \n",
       "1      2   50815.44531             No   M  High School          NaN   \n",
       "2      3   62977.82416            NaN   F    Bachelors     Clerical   \n",
       "3      4   77099.96624             No   F          NaN       Lawyer   \n",
       "4      5  130794.57420             No   M  High School          NaN   \n",
       "\n",
       "   TRAVEL TIME         USE  MILES CLOCKED     CAR TYPE  CAR AGE   CITY  \\\n",
       "0    45.703013  Commercial        17430.0   Sports Car      7.0  Texas   \n",
       "1    20.591628     Private        18930.0      Minivan      1.0  Texas   \n",
       "2    33.639949     Private            NaN          SUV      1.0  Texas   \n",
       "3    15.415676         NaN        18300.0   Sports Car     11.0  Texas   \n",
       "4          NaN  Commercial        28340.0  Panel Truck     10.0  Texas   \n",
       "\n",
       "  POSTAL CODE  \n",
       "0     42420.0  \n",
       "1     42420.0  \n",
       "2     42420.0  \n",
       "3     42420.0  \n",
       "4     42420.0  "
      ]
     },
     "execution_count": 20,
     "metadata": {},
     "output_type": "execute_result"
    }
   ],
   "source": [
    "# we will use imputation method to handle it\n",
    "df.head(5)"
   ]
  },
  {
   "cell_type": "code",
   "execution_count": null,
   "id": "15dea886",
   "metadata": {
    "id": "15dea886"
   },
   "outputs": [],
   "source": [
    "# drop index\n",
    "df = df.iloc[:,1:]"
   ]
  },
  {
   "cell_type": "code",
   "execution_count": null,
   "id": "8ec117b8",
   "metadata": {
    "id": "8ec117b8",
    "outputId": "6bf56dc7-cec6-4580-e468-d7ca872e0240"
   },
   "outputs": [
    {
     "data": {
      "text/html": [
       "<div>\n",
       "<style scoped>\n",
       "    .dataframe tbody tr th:only-of-type {\n",
       "        vertical-align: middle;\n",
       "    }\n",
       "\n",
       "    .dataframe tbody tr th {\n",
       "        vertical-align: top;\n",
       "    }\n",
       "\n",
       "    .dataframe thead th {\n",
       "        text-align: right;\n",
       "    }\n",
       "</style>\n",
       "<table border=\"1\" class=\"dataframe\">\n",
       "  <thead>\n",
       "    <tr style=\"text-align: right;\">\n",
       "      <th></th>\n",
       "      <th>INCOME</th>\n",
       "      <th>MARITAL STATUS</th>\n",
       "      <th>SEX</th>\n",
       "      <th>EDUCATION</th>\n",
       "      <th>JOB</th>\n",
       "      <th>TRAVEL TIME</th>\n",
       "      <th>USE</th>\n",
       "      <th>MILES CLOCKED</th>\n",
       "      <th>CAR TYPE</th>\n",
       "      <th>CAR AGE</th>\n",
       "      <th>CITY</th>\n",
       "      <th>POSTAL CODE</th>\n",
       "    </tr>\n",
       "  </thead>\n",
       "  <tbody>\n",
       "    <tr>\n",
       "      <th>0</th>\n",
       "      <td>125301.24250</td>\n",
       "      <td>No</td>\n",
       "      <td>F</td>\n",
       "      <td>Bachelors</td>\n",
       "      <td>Blue Collar</td>\n",
       "      <td>45.703013</td>\n",
       "      <td>Commercial</td>\n",
       "      <td>17430.0</td>\n",
       "      <td>Sports Car</td>\n",
       "      <td>7.0</td>\n",
       "      <td>Texas</td>\n",
       "      <td>42420.0</td>\n",
       "    </tr>\n",
       "    <tr>\n",
       "      <th>1</th>\n",
       "      <td>50815.44531</td>\n",
       "      <td>No</td>\n",
       "      <td>M</td>\n",
       "      <td>High School</td>\n",
       "      <td>NaN</td>\n",
       "      <td>20.591628</td>\n",
       "      <td>Private</td>\n",
       "      <td>18930.0</td>\n",
       "      <td>Minivan</td>\n",
       "      <td>1.0</td>\n",
       "      <td>Texas</td>\n",
       "      <td>42420.0</td>\n",
       "    </tr>\n",
       "    <tr>\n",
       "      <th>2</th>\n",
       "      <td>62977.82416</td>\n",
       "      <td>NaN</td>\n",
       "      <td>F</td>\n",
       "      <td>Bachelors</td>\n",
       "      <td>Clerical</td>\n",
       "      <td>33.639949</td>\n",
       "      <td>Private</td>\n",
       "      <td>NaN</td>\n",
       "      <td>SUV</td>\n",
       "      <td>1.0</td>\n",
       "      <td>Texas</td>\n",
       "      <td>42420.0</td>\n",
       "    </tr>\n",
       "    <tr>\n",
       "      <th>3</th>\n",
       "      <td>77099.96624</td>\n",
       "      <td>No</td>\n",
       "      <td>F</td>\n",
       "      <td>NaN</td>\n",
       "      <td>Lawyer</td>\n",
       "      <td>15.415676</td>\n",
       "      <td>NaN</td>\n",
       "      <td>18300.0</td>\n",
       "      <td>Sports Car</td>\n",
       "      <td>11.0</td>\n",
       "      <td>Texas</td>\n",
       "      <td>42420.0</td>\n",
       "    </tr>\n",
       "    <tr>\n",
       "      <th>4</th>\n",
       "      <td>130794.57420</td>\n",
       "      <td>No</td>\n",
       "      <td>M</td>\n",
       "      <td>High School</td>\n",
       "      <td>NaN</td>\n",
       "      <td>NaN</td>\n",
       "      <td>Commercial</td>\n",
       "      <td>28340.0</td>\n",
       "      <td>Panel Truck</td>\n",
       "      <td>10.0</td>\n",
       "      <td>Texas</td>\n",
       "      <td>42420.0</td>\n",
       "    </tr>\n",
       "  </tbody>\n",
       "</table>\n",
       "</div>"
      ],
      "text/plain": [
       "         INCOME MARITAL STATUS SEX    EDUCATION          JOB  TRAVEL TIME  \\\n",
       "0  125301.24250             No   F    Bachelors  Blue Collar    45.703013   \n",
       "1   50815.44531             No   M  High School          NaN    20.591628   \n",
       "2   62977.82416            NaN   F    Bachelors     Clerical    33.639949   \n",
       "3   77099.96624             No   F          NaN       Lawyer    15.415676   \n",
       "4  130794.57420             No   M  High School          NaN          NaN   \n",
       "\n",
       "          USE  MILES CLOCKED     CAR TYPE  CAR AGE   CITY POSTAL CODE  \n",
       "0  Commercial        17430.0   Sports Car      7.0  Texas     42420.0  \n",
       "1     Private        18930.0      Minivan      1.0  Texas     42420.0  \n",
       "2     Private            NaN          SUV      1.0  Texas     42420.0  \n",
       "3         NaN        18300.0   Sports Car     11.0  Texas     42420.0  \n",
       "4  Commercial        28340.0  Panel Truck     10.0  Texas     42420.0  "
      ]
     },
     "execution_count": 22,
     "metadata": {},
     "output_type": "execute_result"
    }
   ],
   "source": [
    "df.head()"
   ]
  },
  {
   "cell_type": "code",
   "execution_count": null,
   "id": "d1ca86e9",
   "metadata": {
    "id": "d1ca86e9"
   },
   "outputs": [],
   "source": [
    "df1 = df.copy()"
   ]
  },
  {
   "cell_type": "code",
   "execution_count": null,
   "id": "80a7ea12",
   "metadata": {
    "id": "80a7ea12",
    "outputId": "85d03053-bab4-4336-8a29-ded46dd9afd5"
   },
   "outputs": [
    {
     "data": {
      "text/html": [
       "<div>\n",
       "<style scoped>\n",
       "    .dataframe tbody tr th:only-of-type {\n",
       "        vertical-align: middle;\n",
       "    }\n",
       "\n",
       "    .dataframe tbody tr th {\n",
       "        vertical-align: top;\n",
       "    }\n",
       "\n",
       "    .dataframe thead th {\n",
       "        text-align: right;\n",
       "    }\n",
       "</style>\n",
       "<table border=\"1\" class=\"dataframe\">\n",
       "  <thead>\n",
       "    <tr style=\"text-align: right;\">\n",
       "      <th></th>\n",
       "      <th>INCOME</th>\n",
       "      <th>MARITAL STATUS</th>\n",
       "      <th>SEX</th>\n",
       "      <th>EDUCATION</th>\n",
       "      <th>JOB</th>\n",
       "      <th>TRAVEL TIME</th>\n",
       "      <th>USE</th>\n",
       "      <th>MILES CLOCKED</th>\n",
       "      <th>CAR TYPE</th>\n",
       "      <th>CAR AGE</th>\n",
       "      <th>CITY</th>\n",
       "      <th>POSTAL CODE</th>\n",
       "    </tr>\n",
       "  </thead>\n",
       "  <tbody>\n",
       "    <tr>\n",
       "      <th>0</th>\n",
       "      <td>125301.24250</td>\n",
       "      <td>No</td>\n",
       "      <td>F</td>\n",
       "      <td>Bachelors</td>\n",
       "      <td>Blue Collar</td>\n",
       "      <td>45.703013</td>\n",
       "      <td>Commercial</td>\n",
       "      <td>17430.0</td>\n",
       "      <td>Sports Car</td>\n",
       "      <td>7.0</td>\n",
       "      <td>Texas</td>\n",
       "      <td>42420.0</td>\n",
       "    </tr>\n",
       "    <tr>\n",
       "      <th>1</th>\n",
       "      <td>50815.44531</td>\n",
       "      <td>No</td>\n",
       "      <td>M</td>\n",
       "      <td>High School</td>\n",
       "      <td>NaN</td>\n",
       "      <td>20.591628</td>\n",
       "      <td>Private</td>\n",
       "      <td>18930.0</td>\n",
       "      <td>Minivan</td>\n",
       "      <td>1.0</td>\n",
       "      <td>Texas</td>\n",
       "      <td>42420.0</td>\n",
       "    </tr>\n",
       "    <tr>\n",
       "      <th>2</th>\n",
       "      <td>62977.82416</td>\n",
       "      <td>NaN</td>\n",
       "      <td>F</td>\n",
       "      <td>Bachelors</td>\n",
       "      <td>Clerical</td>\n",
       "      <td>33.639949</td>\n",
       "      <td>Private</td>\n",
       "      <td>NaN</td>\n",
       "      <td>SUV</td>\n",
       "      <td>1.0</td>\n",
       "      <td>Texas</td>\n",
       "      <td>42420.0</td>\n",
       "    </tr>\n",
       "    <tr>\n",
       "      <th>3</th>\n",
       "      <td>77099.96624</td>\n",
       "      <td>No</td>\n",
       "      <td>F</td>\n",
       "      <td>NaN</td>\n",
       "      <td>Lawyer</td>\n",
       "      <td>15.415676</td>\n",
       "      <td>NaN</td>\n",
       "      <td>18300.0</td>\n",
       "      <td>Sports Car</td>\n",
       "      <td>11.0</td>\n",
       "      <td>Texas</td>\n",
       "      <td>42420.0</td>\n",
       "    </tr>\n",
       "    <tr>\n",
       "      <th>4</th>\n",
       "      <td>130794.57420</td>\n",
       "      <td>No</td>\n",
       "      <td>M</td>\n",
       "      <td>High School</td>\n",
       "      <td>NaN</td>\n",
       "      <td>NaN</td>\n",
       "      <td>Commercial</td>\n",
       "      <td>28340.0</td>\n",
       "      <td>Panel Truck</td>\n",
       "      <td>10.0</td>\n",
       "      <td>Texas</td>\n",
       "      <td>42420.0</td>\n",
       "    </tr>\n",
       "  </tbody>\n",
       "</table>\n",
       "</div>"
      ],
      "text/plain": [
       "         INCOME MARITAL STATUS SEX    EDUCATION          JOB  TRAVEL TIME  \\\n",
       "0  125301.24250             No   F    Bachelors  Blue Collar    45.703013   \n",
       "1   50815.44531             No   M  High School          NaN    20.591628   \n",
       "2   62977.82416            NaN   F    Bachelors     Clerical    33.639949   \n",
       "3   77099.96624             No   F          NaN       Lawyer    15.415676   \n",
       "4  130794.57420             No   M  High School          NaN          NaN   \n",
       "\n",
       "          USE  MILES CLOCKED     CAR TYPE  CAR AGE   CITY POSTAL CODE  \n",
       "0  Commercial        17430.0   Sports Car      7.0  Texas     42420.0  \n",
       "1     Private        18930.0      Minivan      1.0  Texas     42420.0  \n",
       "2     Private            NaN          SUV      1.0  Texas     42420.0  \n",
       "3         NaN        18300.0   Sports Car     11.0  Texas     42420.0  \n",
       "4  Commercial        28340.0  Panel Truck     10.0  Texas     42420.0  "
      ]
     },
     "execution_count": 24,
     "metadata": {},
     "output_type": "execute_result"
    }
   ],
   "source": [
    "df1.head()"
   ]
  },
  {
   "cell_type": "code",
   "execution_count": null,
   "id": "01537d5e",
   "metadata": {
    "id": "01537d5e",
    "outputId": "7af9d293-64f2-434f-ffef-9067f2d35b4d"
   },
   "outputs": [
    {
     "data": {
      "text/plain": [
       "INCOME            14.878893\n",
       "MARITAL STATUS     9.688581\n",
       "SEX                2.076125\n",
       "EDUCATION         15.224913\n",
       "JOB               15.916955\n",
       "TRAVEL TIME       14.186851\n",
       "USE               18.339100\n",
       "MILES CLOCKED      8.650519\n",
       "CAR TYPE           3.460208\n",
       "CAR AGE            6.920415\n",
       "CITY               2.076125\n",
       "POSTAL CODE        1.038062\n",
       "dtype: float64"
      ]
     },
     "execution_count": 28,
     "metadata": {},
     "output_type": "execute_result"
    }
   ],
   "source": [
    "# how much percent\n",
    "df1.isnull().sum()/len(df1)*100"
   ]
  },
  {
   "cell_type": "code",
   "execution_count": null,
   "id": "8c3ea705",
   "metadata": {
    "id": "8c3ea705",
    "outputId": "80d67263-2a22-41aa-b694-9d080ae8d655"
   },
   "outputs": [
    {
     "data": {
      "text/plain": [
       "INCOME            43\n",
       "MARITAL STATUS    28\n",
       "SEX                6\n",
       "EDUCATION         44\n",
       "JOB               46\n",
       "TRAVEL TIME       41\n",
       "USE               53\n",
       "MILES CLOCKED     25\n",
       "CAR TYPE          10\n",
       "CAR AGE           20\n",
       "CITY               6\n",
       "POSTAL CODE        3\n",
       "dtype: int64"
      ]
     },
     "execution_count": 29,
     "metadata": {},
     "output_type": "execute_result"
    }
   ],
   "source": [
    "df1.isnull().sum()[df1.isnull().sum()>0]"
   ]
  },
  {
   "cell_type": "code",
   "execution_count": null,
   "id": "d171da1e",
   "metadata": {
    "id": "d171da1e",
    "outputId": "ef7916a0-e124-45b1-cea4-ce5f7237a98d"
   },
   "outputs": [
    {
     "data": {
      "text/plain": [
       "INCOME             float64\n",
       "MARITAL STATUS      object\n",
       "SEX                 object\n",
       "EDUCATION           object\n",
       "JOB                 object\n",
       "TRAVEL TIME        float64\n",
       "USE                 object\n",
       "MILES CLOCKED      float64\n",
       "CAR TYPE            object\n",
       "CAR AGE            float64\n",
       "CITY                object\n",
       "POSTAL CODE       category\n",
       "dtype: object"
      ]
     },
     "execution_count": 31,
     "metadata": {},
     "output_type": "execute_result"
    }
   ],
   "source": [
    "df1[df1.isnull().sum()[df1.isnull().sum()>0].index].dtypes"
   ]
  },
  {
   "cell_type": "code",
   "execution_count": null,
   "id": "7d251142",
   "metadata": {
    "id": "7d251142",
    "outputId": "d1871a15-3eac-441e-cae6-99892b6f26d0"
   },
   "outputs": [
    {
     "data": {
      "text/plain": [
       "0.0"
      ]
     },
     "execution_count": 40,
     "metadata": {},
     "output_type": "execute_result"
    }
   ],
   "source": [
    "min(df1['INCOME'])"
   ]
  },
  {
   "cell_type": "code",
   "execution_count": null,
   "id": "3446eb4d",
   "metadata": {
    "id": "3446eb4d"
   },
   "outputs": [],
   "source": [
    "df1['INCOME'] = df1['INCOME'].fillna(df1['INCOME'].median())"
   ]
  },
  {
   "cell_type": "code",
   "execution_count": null,
   "id": "71546642",
   "metadata": {
    "id": "71546642"
   },
   "outputs": [],
   "source": [
    "median1 = df1['INCOME'].median()\n",
    "median2 = df1['TRAVEL TIME'].median()\n",
    "median3 = df1['MILES CLOCKED'].median()\n",
    "mean1 = df1['CAR AGE'].mean()\n",
    "\n",
    "df1['INCOME'].replace(np.nan, median1, inplace=True)\n",
    "df1['TRAVEL TIME'].replace(np.nan, median2, inplace=True)\n",
    "df1['MILES CLOCKED'].replace(np.nan, median3, inplace=True)\n",
    "df1['CAR AGE'].replace(np.nan, mean1, inplace=True)"
   ]
  },
  {
   "cell_type": "code",
   "execution_count": null,
   "id": "3b3e7747",
   "metadata": {
    "id": "3b3e7747",
    "outputId": "f093d90d-76e6-4106-e43f-208b193246e5"
   },
   "outputs": [
    {
     "data": {
      "text/plain": [
       "20.0"
      ]
     },
     "execution_count": 46,
     "metadata": {},
     "output_type": "execute_result"
    }
   ],
   "source": [
    "max(df1['CAR AGE'])"
   ]
  },
  {
   "cell_type": "markdown",
   "id": "edcbd779",
   "metadata": {
    "id": "edcbd779"
   },
   "source": [
    "MARITAL STATUS      object\n",
    "SEX                 object\n",
    "EDUCATION           object\n",
    "JOB                 object\n",
    "USE                 object\n",
    "CAR TYPE            object\n",
    "CITY                object\n",
    "POSTAL CODE       category"
   ]
  },
  {
   "cell_type": "code",
   "execution_count": null,
   "id": "0a315f00",
   "metadata": {
    "id": "0a315f00"
   },
   "outputs": [],
   "source": [
    "mode1 = df1['MARITAL STATUS'].mode().values[0]\n",
    "mode2 = df1['SEX'].mode().values[0]\n",
    "mode3 = df1['EDUCATION'].mode().values[0]\n",
    "mode4 = df1['JOB'].mode().values[0]\n",
    "mode5 = df1['USE'].mode().values[0]\n",
    "mode6 = df1['CAR TYPE'].mode().values[0]\n",
    "mode7 = df1['CITY'].mode().values[0]\n",
    "mode8 = df1['POSTAL CODE'].mode().values[0]\n",
    "\n",
    "\n",
    "df1['MARITAL STATUS'].replace(np.nan, mode1, inplace=True)\n",
    "df1['SEX'].replace(np.nan, mode2, inplace=True)\n",
    "df1['EDUCATION'].replace(np.nan, mode3, inplace=True)\n",
    "df1['JOB'].replace(np.nan, mode4, inplace=True)\n",
    "df1['USE'].replace(np.nan, mode5, inplace=True)\n",
    "df1['CAR TYPE'].replace(np.nan, mode6, inplace=True)\n",
    "df1['CITY'].replace(np.nan, mode7, inplace=True)\n",
    "df1['POSTAL CODE'].replace(np.nan, mode8, inplace=True)"
   ]
  },
  {
   "cell_type": "code",
   "execution_count": null,
   "id": "80e5449a",
   "metadata": {
    "id": "80e5449a",
    "outputId": "dcd5efe2-1e7c-4fb9-ebfd-3c193cbabea9"
   },
   "outputs": [
    {
     "data": {
      "text/plain": [
       "INCOME            0\n",
       "MARITAL STATUS    0\n",
       "SEX               0\n",
       "EDUCATION         0\n",
       "JOB               0\n",
       "TRAVEL TIME       0\n",
       "USE               0\n",
       "MILES CLOCKED     0\n",
       "CAR TYPE          0\n",
       "CAR AGE           0\n",
       "CITY              0\n",
       "POSTAL CODE       0\n",
       "dtype: int64"
      ]
     },
     "execution_count": 50,
     "metadata": {},
     "output_type": "execute_result"
    }
   ],
   "source": [
    "df1.isnull().sum()"
   ]
  },
  {
   "cell_type": "code",
   "execution_count": null,
   "id": "6ae8bff0",
   "metadata": {
    "id": "6ae8bff0",
    "outputId": "65591e5d-9176-452e-fe83-8196eabf46b0"
   },
   "outputs": [
    {
     "data": {
      "text/plain": [
       "0    44412.0\n",
       "Name: POSTAL CODE, dtype: category\n",
       "Categories (11, float64): [11435.0, 12180.0, 42420.0, 44123.0, ..., 61701.0, 78207.0, 84057.0, 90049.0]"
      ]
     },
     "execution_count": 48,
     "metadata": {},
     "output_type": "execute_result"
    }
   ],
   "source": [
    "df1['POSTAL CODE'].mode()"
   ]
  },
  {
   "cell_type": "code",
   "execution_count": null,
   "id": "b4e7e767",
   "metadata": {
    "id": "b4e7e767"
   },
   "outputs": [],
   "source": [
    "df1['POSTAL CODE'] = df1['POSTAL CODE'].fillna(44412.0)"
   ]
  },
  {
   "cell_type": "code",
   "execution_count": null,
   "id": "221bab0e",
   "metadata": {
    "id": "221bab0e",
    "outputId": "a535c8c3-cfd3-47ff-b858-3c19beaad4b3"
   },
   "outputs": [
    {
     "name": "stdout",
     "output_type": "stream",
     "text": [
      "****************************** INCOME ******************************************\n",
      "\n",
      "{0.0, 62977.82416, 16896.56828, 33283.09242, 22020.81938, 23047.69123, 64013.81632, 19469.20268, 78866.44664, 3603.639121, 62486.2025, 86551.34847, 31773.10396, 21533.60807, 71197.08357, 71206.84229, 49703.42492, 57386.5819, 60972.96216, 93741.01937, 21042.41736, 55352.90711, 32317.31421, 200771.9243, 12871.11929, 20554.56402, 50251.7624, 1101.678305, 40528.15278, 61521.48327, 105554.3537, 17492.76645, 62036.46367, 91221.1218, 204372.9551, 92251.21306, 16988.72135, 22623.01291, 2656.766602, 102903.8717, 37991.26687, 53356.8697, 73325.74641, 33391.56753, 73842.01449, 189554.8586, 98421.21075, 152059.8036, 32381.4663, 50815.44531, 81024.32636, 47235.48762, 5252.670336, 116869.5012, 7302.3125, 58504.00815, 60049.83017, 38035.58347, 136343.7947, 51869.71691, 40094.81041, 158.223551, 17566.51355, 44705.21281, 69793.55832, 58530.20573, 111268.3117, 22181.48424, 43173.63322, 75431.95723, 32936.11043, 28326.29482, 69290.2134, 65702.14547, 45733.92634, 159399.0167, 2214.069804, 39599.57172, 31407.30199, 27823.22137, 11953.74961, 20147.84803, 28853.09312, 49848.95817, 52411.63059, 81084.16305, 32956.01082, 3271.592449, 25288.54263, 108743.6076, 33994.88198, 37579.71165, 16073.67032, 63694.71868, 40656.44899, 176848.9483, 133335.0807, 13022.7003, 62176.69857, 85730.51809, 57062.78859, 52456.45719, 130794.5742, 40171.535635, 30955.01786, 44781.81586, 38128.37473, 48374.40295, 248.614532, 26874.78534, 86267.50581, 64766.06512, 45827.67153, 155409.6551, 65298.10939, 14097.90673, 12054.36967, 3864.526575, 35096.80269, 66840.83124, 20764.88045, 24861.5349, 21281.93453, 61219.91962, 75045.62077, 77099.96624, 75772.37801, 23344.16706, 110386.4044, 5939.344181, 40759.5277, 40248.26086, 105276.6218, 66367.40477, 9536.124182, 82761.8404, 34636.86107, 46927.74799, 7504.658115, 29523.52225, 60755.19261, 20821.8463, 14166.18683, 18774.63587, 51544.43316, 96599.45597, 16227.42875, 69475.68892, 94565.86351, 81766.51691, 33644.06944, 14705.35906, 59762.84945, 114546.7095, 125301.2425, 47991.45003, 10616.87423, 84345.18012, 87415.72407, 204667.5897, 4478.341531, 76158.64499, 94591.18428, 92543.42733, 6017.600091, 21891.25119, 30085.32061, 109957.3023, 2954.141221, 52107.94909, 137102.7342, 81294.19215, 63889.85805, 23953.42563, 52626.24977, 15251.52473, 44437.96893, 20891.37315, 85408.05815, 34210.31233, 146338.4425, 87460.05269, 27053.11982, 55726.86348, 28591.85173, 33712.64957, 15795.70898, 85429.5081, 61369.9036, 31675.21527, 30652.9423, 31738.35627, 99268.97416, 32708.12149, 25031.76105, 31176.83129, 25544.2197, 12236.10714, 63952.17766, 58832.76225, 53209.5709, 62426.39554, 50138.52192, 40923.71519, 140765.7553, 148442.6402, 16352.02931, 34273.08684, 24546.04016, 64487.8935, 27624.53579, 26087.5841, 72167.40438, 10729.74262, 18408.39545, 39405.03083, 45038.2097, 10231.93357, 102393.1799, 68090.40983, 24059.72157, 53244.41283}\n",
      "\n",
      "****************************** MARITAL STATUS ******************************************\n",
      "\n",
      "{'No', 'Yes'}\n",
      "\n",
      "****************************** SEX ******************************************\n",
      "\n",
      "{'F', 'M'}\n",
      "\n",
      "****************************** EDUCATION ******************************************\n",
      "\n",
      "{'Masters', 'PhD', 'Bachelors', 'High School'}\n",
      "\n",
      "****************************** JOB ******************************************\n",
      "\n",
      "{'Home Maker', 'Student', 'Manager', 'Clerical', 'Lawyer', 'Professional', 'Doctor', 'Blue Collar'}\n",
      "\n",
      "****************************** TRAVEL TIME ******************************************\n",
      "\n",
      "{5.0, 6.448685045, 7.472455404, 8.760570444, 9.92626961, 9.269535821, 10.70078807, 12.40616516, 13.66285957, 14.45932328, 15.41567565, 15.66594707, 15.62481718, 13.74904287, 19.42590174, 20.59162765, 20.45001583, 21.15953978, 23.28684117, 24.4301981, 24.86796984, 26.39296083, 27.49074868, 28.80035701, 24.52000126, 27.55140242, 28.06624321, 32.18028505, 33.63994919, 34.08976118, 34.426445765, 32.71723445, 35.81813031, 35.02097056, 37.1604757, 36.22025164, 35.8243038, 41.19071361, 42.50081473, 43.69786089, 45.70301258, 45.0004876, 45.90771277, 48.36019147, 49.57689468, 48.14333635, 50.0889763, 52.42306084, 46.93284039, 45.25904589, 48.4305554, 51.04542646, 57.09137453, 49.81881515, 51.79297955, 55.31937696, 61.60320818, 53.51257132, 63.34254361, 63.26903238, 63.01952989, 61.04009162, 13.02391969, 68.37962907, 68.01864748, 62.7835772, 66.19076796, 75.2429745, 15.39811427, 15.79729794, 82.61145278, 83.61764316, 18.46276367, 18.28520724, 18.70414666, 41.08118853, 19.37071849, 20.38198439, 21.64869735, 21.2987556, 21.05216018, 22.75884938, 23.82346578, 24.50890014, 24.01186302, 25.89368779, 25.13025898, 27.49072358, 27.48940381, 27.11947131, 28.17427669, 28.21485235, 28.85954957, 28.49023537, 28.82749322, 29.8097693, 30.16813294, 30.26271086, 30.32349174, 30.04444658, 41.1622157, 34.62354793, 31.31505782, 32.52587199, 32.31676807, 32.88686876, 32.78794184, 33.17901246, 33.91776708, 33.48956381, 34.0324406, 34.51305459, 34.28536254, 34.23010402, 34.46872349, 35.57397154, 35.17275027, 35.26903717, 35.45421765, 10.15303444, 36.85122135, 36.97470077, 36.88037153, 36.46701103, 36.98058526, 37.88679535, 37.46849501, 37.56222498, 37.10373467, 12.38084695, 38.6477761, 38.84084401, 38.13377491, 39.71076852, 39.46701804, 39.45747184, 40.50100216, 40.9560327, 40.73448114, 40.93108005, 40.12660307, 41.52943692, 41.73994653, 40.47509151, 40.1093031, 40.11941984, 42.37646993, 42.49201622, 42.52375978, 42.33761768, 42.180813, 43.96735832, 43.65991421, 43.07081008, 43.33811443, 43.01889446, 44.83097562, 44.03149922, 44.22753904, 44.47770323, 44.26113732, 45.78509389, 44.33494856, 45.5379056, 11.65748273, 47.99664159, 47.86751636, 47.99327256, 47.12234284, 47.60779116, 48.96897384, 48.06235447, 47.0072688, 50.69083062, 50.28211327, 50.81098881, 50.48439684, 51.40503103, 51.6949148, 51.40620838, 42.61911836, 52.0080434, 52.43095747, 52.54720362, 52.63500496, 53.30267191, 53.07316346, 54.74085716, 55.69961717, 55.18763483, 56.26995418, 56.53915787, 57.3583139, 60.88429215, 36.71745022, 11.42095703, 12.2923711, 13.40621354, 13.9205626, 13.826072, 13.13473171, 14.8370183, 15.37930286, 17.87372296, 18.85100263, 34.38416804, 19.49606134, 20.64757595, 20.82167317, 21.47224067, 22.3222614, 22.84563443, 23.21106213, 23.74883926, 24.88144083, 25.93259739, 25.91614866, 26.82362994, 26.64660882, 26.5337257, 26.61399379, 27.60611803, 29.80314055, 29.74638945, 29.21560105, 30.84344493, 30.35428387, 30.74937401, 30.66670238, 30.46871474, 31.60731719, 30.8055906, 31.51556079, 9.59220339, 10.73205036, 41.25038713, 12.02530439, 43.72727942, 36.53362365, 13.143433, 14.42381152, 15.64439456, 34.83950603, 42.32818937}\n",
      "\n",
      "****************************** USE ******************************************\n",
      "\n",
      "{'Commercial', 'Private'}\n",
      "\n",
      "****************************** MILES CLOCKED ******************************************\n",
      "\n",
      "{9730.0, 19970.0, 34310.0, 7690.0, 4110.0, 18960.0, 7700.0, 17430.0, 24600.0, 14360.0, 11290.0, 13850.0, 3100.0, 9240.0, 21020.0, 7200.0, 29220.0, 11300.0, 16420.0, 12840.0, 9260.0, 12845.0, 18990.0, 23600.0, 12850.0, 33330.0, 30260.0, 19510.0, 9270.0, 6710.0, 15420.0, 7740.0, 17470.0, 17980.0, 11840.0, 10300.0, 5700.0, 18500.0, 20550.0, 19530.0, 9290.0, 5200.0, 12880.0, 7760.0, 7250.0, 32340.0, 16980.0, 22620.0, 4700.0, 19550.0, 16480.0, 5730.0, 10850.0, 5220.0, 33380.0, 9830.0, 11880.0, 13930.0, 13420.0, 7790.0, 38000.0, 11890.0, 4210.0, 16500.0, 9330.0, 7800.0, 6780.0, 16510.0, 12930.0, 18050.0, 16010.0, 5260.0, 7820.0, 9870.0, 20110.0, 9360.0, 16020.0, 10900.0, 20630.0, 17560.0, 21660.0, 16030.0, 25250.0, 7330.0, 11940.0, 26280.0, 5800.0, 10920.0, 11950.0, 11440.0, 14000.0, 28340.0, 5300.0, 14520.0, 26810.0, 10940.0, 22720.0, 20170.0, 23760.0, 23250.0, 10450.0, 15570.0, 20690.0, 17110.0, 11480.0, 16600.0, 6360.0, 31960.0, 7900.0, 12510.0, 6880.0, 18150.0, 21740.0, 10480.0, 23280.0, 15090.0, 22260.0, 14070.0, 7930.0, 7420.0, 30460.0, 16640.0, 6400.0, 23810.0, 21770.0, 14090.0, 11020.0, 7950.0, 10510.0, 17680.0, 7440.0, 11030.0, 16150.0, 10520.0, 7960.0, 29470.0, 20770.0, 10020.0, 17700.0, 19750.0, 4390.0, 9000.0, 24360.0, 10030.0, 6960.0, 5430.0, 25910.0, 12600.0, 17720.0, 20280.0, 23350.0, 21820.0, 3900.0, 14650.0, 22340.0, 14660.0, 11080.0, 13130.0, 15690.0, 25420.0, 14670.0, 9550.0, 21840.0, 11770.0, 13140.0, 5460.0, 24410.0, 11610.0, 11100.0, 18780.0, 10590.0, 8030.0, 28000.0, 14170.0, 18270.0, 6500.0, 26470.0, 13160.0, 25960.0, 3950.0, 6000.0, 8560.0, 20850.0, 7030.0, 9080.0, 16250.0, 18300.0, 8060.0, 11650.0, 16260.0, 22920.0, 14220.0, 19340.0, 9100.0, 15760.0, 12180.0, 6550.0, 18330.0, 14240.0, 18850.0, 9640.0, 7080.0, 9130.0, 14250.0, 16810.0, 23470.0, 12720.0, 22450.0, 20920.0, 5560.0, 14780.0, 16320.0, 24520.0, 6600.0, 15820.0, 8140.0, 10190.0, 12750.0, 9170.0, 4050.0, 6100.0, 21970.0, 3030.0, 17880.0, 15320.0, 1500.0, 11740.0, 14300.0, 5600.0, 7650.0, 17380.0, 19940.0, 11750.0, 21480.0, 5100.0, 7660.0, 18930.0, 11250.0, 15860.0, 12790.0, 9210.0}\n",
      "\n",
      "****************************** CAR TYPE ******************************************\n",
      "\n",
      "{'SUV', 'Pickup', 'Panel Truck', 'Sports Car', 'Van', 'Minivan'}\n",
      "\n",
      "****************************** CAR AGE ******************************************\n",
      "\n",
      "{1.0, 3.0, 4.0, 5.0, 6.330855018587361, 7.0, 6.0, 8.0, 10.0, 11.0, 12.0, 13.0, 14.0, 15.0, 16.0, 17.0, 9.0, 18.0, 20.0, 19.0}\n",
      "\n",
      "****************************** CITY ******************************************\n",
      "\n",
      "{'Washington', 'Texas', 'Houston', 'Columbia', 'Las Vegas', 'New Albany', 'San Francisco', 'Seattle', 'Los Angeles', 'Philadelphia', 'New York City'}\n",
      "\n",
      "****************************** POSTAL CODE ******************************************\n",
      "\n",
      "{90049.0, 55106.0, 61701.0, 11435.0, 47150.0, 42420.0, 12180.0, 84057.0, 44123.0, 44412.0, 78207.0}\n",
      "\n"
     ]
    }
   ],
   "source": [
    "for i in df1.columns:\n",
    "    print(\"******************************\", i, \"******************************************\")\n",
    "    print()\n",
    "    print(set(df1[i].tolist()))\n",
    "    print()"
   ]
  },
  {
   "cell_type": "code",
   "execution_count": null,
   "id": "932d54c1",
   "metadata": {
    "id": "932d54c1"
   },
   "outputs": [],
   "source": []
  },
  {
   "cell_type": "code",
   "execution_count": null,
   "id": "5dd5f6e8",
   "metadata": {
    "id": "5dd5f6e8"
   },
   "outputs": [],
   "source": []
  },
  {
   "cell_type": "code",
   "execution_count": null,
   "id": "603b1c14",
   "metadata": {
    "id": "603b1c14",
    "outputId": "feb73697-ae9d-40ee-e075-586a985fa67d"
   },
   "outputs": [
    {
     "data": {
      "image/png": "[encoded data removed]",
      "text/plain": [
       "<Figure size 640x480 with 1 Axes>"
      ]
     },
     "metadata": {},
     "output_type": "display_data"
    },
    {
     "data": {
      "image/png": "[encoded data removed]",
      "text/plain": [
       "<Figure size 640x480 with 1 Axes>"
      ]
     },
     "metadata": {},
     "output_type": "display_data"
    },
    {
     "data": {
      "image/png": "[encoded data removed]",
      "text/plain": [
       "<Figure size 640x480 with 1 Axes>"
      ]
     },
     "metadata": {},
     "output_type": "display_data"
    },
    {
     "data": {
      "image/png": "[encoded data removed]",
      "text/plain": [
       "<Figure size 640x480 with 1 Axes>"
      ]
     },
     "metadata": {},
     "output_type": "display_data"
    }
   ],
   "source": [
    "def boxplots(col):\n",
    "    sns.boxplot(df1[col])\n",
    "    plt.show()\n",
    "    \n",
    "for i in list(df1.select_dtypes(exclude=['object','category']).columns)[0:]:\n",
    "    boxplots(i)"
   ]
  },
  {
   "cell_type": "code",
   "execution_count": null,
   "id": "d48008e7",
   "metadata": {
    "id": "d48008e7",
    "outputId": "e1aea08c-535a-4c2c-fde3-3cf586074ab6"
   },
   "outputs": [
    {
     "data": {
      "image/png": "[encoded data removed]",
      "text/plain": [
       "<Figure size 640x480 with 1 Axes>"
      ]
     },
     "metadata": {},
     "output_type": "display_data"
    },
    {
     "data": {
      "image/png": "[encoded data removed]",
      "text/plain": [
       "<Figure size 640x480 with 1 Axes>"
      ]
     },
     "metadata": {},
     "output_type": "display_data"
    },
    {
     "data": {
      "image/png": "[encoded data removed]",
      "text/plain": [
       "<Figure size 640x480 with 1 Axes>"
      ]
     },
     "metadata": {},
     "output_type": "display_data"
    }
   ],
   "source": [
    "def distplots(col):\n",
    "    sns.distplot(df1[col])\n",
    "    plt.show()\n",
    "    \n",
    "for i in list(df1.select_dtypes(exclude=['object','category']).columns)[1:]:\n",
    "    distplots(i)"
   ]
  },
  {
   "cell_type": "code",
   "execution_count": null,
   "id": "db765e6a",
   "metadata": {
    "id": "db765e6a"
   },
   "outputs": [],
   "source": []
  },
  {
   "cell_type": "markdown",
   "id": "c926e48d",
   "metadata": {
    "id": "c926e48d"
   },
   "source": [
    "# outlier"
   ]
  },
  {
   "cell_type": "code",
   "execution_count": null,
   "id": "084f21d9",
   "metadata": {
    "id": "084f21d9"
   },
   "outputs": [],
   "source": [
    "def remove_outlier(col):\n",
    "    sorted(col)\n",
    "    Q1, Q3 = col.quantile([0.25, 0.75])\n",
    "    IQR = Q3 - Q1\n",
    "    lower_range = Q1 - 1.5 * IQR\n",
    "    upper_range = Q3 + 1.5 * IQR\n",
    "    return lower_range, upper_range"
   ]
  },
  {
   "cell_type": "code",
   "execution_count": null,
   "id": "34fd77e9",
   "metadata": {
    "id": "34fd77e9",
    "outputId": "97f7e339-96ec-4044-ebad-aa20c86f5708"
   },
   "outputs": [
    {
     "data": {
      "text/plain": [
       "Index(['INCOME', 'MARITAL STATUS', 'SEX', 'EDUCATION', 'JOB', 'TRAVEL TIME',\n",
       "       'USE', 'MILES CLOCKED', 'CAR TYPE', 'CAR AGE', 'CITY', 'POSTAL CODE'],\n",
       "      dtype='object')"
      ]
     },
     "execution_count": 53,
     "metadata": {},
     "output_type": "execute_result"
    }
   ],
   "source": [
    "df1.columns"
   ]
  },
  {
   "cell_type": "code",
   "execution_count": null,
   "id": "1f41e17a",
   "metadata": {
    "id": "1f41e17a"
   },
   "outputs": [],
   "source": [
    "lrincome, upincome = remove_outlier(df1['INCOME'])\n",
    "df1['INCOME'] = np.where(df1['INCOME']>upincome, upincome, df1['INCOME'])\n",
    "df1['INCOME'] = np.where(df1['INCOME']< lrincome, lrincome, df1['INCOME'])\n",
    "\n",
    "lrtravel, uptravel = remove_outlier(df1['TRAVEL TIME'])\n",
    "df1['TRAVEL TIME'] = np.where(df1['TRAVEL TIME']>uptravel, uptravel, df1['TRAVEL TIME'])\n",
    "df1['TRAVEL TIME'] = np.where(df1['TRAVEL TIME']< lrtravel, lrtravel, df1['TRAVEL TIME'])\n",
    "\n",
    "lrmiles, upmiles = remove_outlier(df1['MILES CLOCKED'])\n",
    "df1['MILES CLOCKED'] = np.where(df1['MILES CLOCKED']>upmiles, upmiles, df1['MILES CLOCKED'])\n",
    "df1['MILES CLOCKED'] = np.where(df1['MILES CLOCKED']< lrmiles, lrmiles, df1['MILES CLOCKED'])"
   ]
  },
  {
   "cell_type": "code",
   "execution_count": null,
   "id": "3447ec84",
   "metadata": {
    "id": "3447ec84",
    "outputId": "4d5d3269-7b3e-4d09-f0b6-29f0ef9c38b7"
   },
   "outputs": [
    {
     "data": {
      "text/plain": [
       "<AxesSubplot:>"
      ]
     },
     "execution_count": 55,
     "metadata": {},
     "output_type": "execute_result"
    },
    {
     "data": {
      "image/png": "[encoded data removed]",
      "text/plain": [
       "<Figure size 640x480 with 1 Axes>"
      ]
     },
     "metadata": {},
     "output_type": "display_data"
    }
   ],
   "source": [
    "df1.boxplot(column=['INCOME'])"
   ]
  },
  {
   "cell_type": "code",
   "execution_count": null,
   "id": "688fe76c",
   "metadata": {
    "id": "688fe76c",
    "outputId": "2a6cd062-57bf-456c-a33c-c79ee8f531e0"
   },
   "outputs": [
    {
     "data": {
      "text/plain": [
       "<AxesSubplot:>"
      ]
     },
     "execution_count": 57,
     "metadata": {},
     "output_type": "execute_result"
    },
    {
     "data": {
      "image/png": "[encoded data removed]",
      "text/plain": [
       "<Figure size 640x480 with 1 Axes>"
      ]
     },
     "metadata": {},
     "output_type": "display_data"
    }
   ],
   "source": [
    "df1.boxplot(column=['TRAVEL TIME'])"
   ]
  },
  {
   "cell_type": "code",
   "execution_count": null,
   "id": "b60bcea7",
   "metadata": {
    "id": "b60bcea7",
    "outputId": "fd86212b-8965-4b36-e11e-27a30d4d2eb0"
   },
   "outputs": [
    {
     "data": {
      "text/plain": [
       "<AxesSubplot:>"
      ]
     },
     "execution_count": 58,
     "metadata": {},
     "output_type": "execute_result"
    },
    {
     "data": {
      "image/png": "[encoded data removed]",
      "text/plain": [
       "<Figure size 640x480 with 1 Axes>"
      ]
     },
     "metadata": {},
     "output_type": "display_data"
    }
   ],
   "source": [
    "df1.boxplot(column=['MILES CLOCKED'])"
   ]
  },
  {
   "cell_type": "code",
   "execution_count": null,
   "id": "5f4c6810",
   "metadata": {
    "id": "5f4c6810",
    "outputId": "7557c81d-d3c2-4964-c974-29ddfdcd6fcb"
   },
   "outputs": [
    {
     "data": {
      "image/png": "[encoded data removed]",
      "text/plain": [
       "<Figure size 1000x1000 with 20 Axes>"
      ]
     },
     "metadata": {},
     "output_type": "display_data"
    }
   ],
   "source": [
    "sns.pairplot(df1)\n",
    "plt.show()"
   ]
  },
  {
   "cell_type": "code",
   "execution_count": null,
   "id": "5380e498",
   "metadata": {
    "id": "5380e498",
    "outputId": "d0a5ab2a-1c0b-430d-f700-0b28b080b8f9"
   },
   "outputs": [
    {
     "data": {
      "image/png": "[encoded data removed]",
      "text/plain": [
       "<Figure size 640x480 with 2 Axes>"
      ]
     },
     "metadata": {},
     "output_type": "display_data"
    }
   ],
   "source": [
    "sns.heatmap(df1.corr(), annot=True, cmap='coolwarm')\n",
    "plt.show()"
   ]
  },
  {
   "cell_type": "code",
   "execution_count": null,
   "id": "21d271a9",
   "metadata": {
    "id": "21d271a9",
    "outputId": "c80ba8bc-394e-4597-df09-d8bdc6f06635"
   },
   "outputs": [
    {
     "name": "stdout",
     "output_type": "stream",
     "text": [
      "<class 'pandas.core.frame.DataFrame'>\n",
      "Int64Index: 289 entries, 0 to 302\n",
      "Data columns (total 12 columns):\n",
      " #   Column          Non-Null Count  Dtype   \n",
      "---  ------          --------------  -----   \n",
      " 0   INCOME          289 non-null    float64 \n",
      " 1   MARITAL STATUS  289 non-null    object  \n",
      " 2   SEX             289 non-null    object  \n",
      " 3   EDUCATION       289 non-null    object  \n",
      " 4   JOB             289 non-null    object  \n",
      " 5   TRAVEL TIME     289 non-null    float64 \n",
      " 6   USE             289 non-null    object  \n",
      " 7   MILES CLOCKED   289 non-null    float64 \n",
      " 8   CAR TYPE        289 non-null    object  \n",
      " 9   CAR AGE         289 non-null    float64 \n",
      " 10  CITY            289 non-null    object  \n",
      " 11  POSTAL CODE     289 non-null    category\n",
      "dtypes: category(1), float64(4), object(7)\n",
      "memory usage: 27.8+ KB\n"
     ]
    }
   ],
   "source": [
    "df1.info()"
   ]
  },
  {
   "cell_type": "markdown",
   "id": "ab81ea8d",
   "metadata": {
    "id": "ab81ea8d"
   },
   "source": [
    "# Encoding Part"
   ]
  },
  {
   "cell_type": "code",
   "execution_count": null,
   "id": "00c14e3a",
   "metadata": {
    "id": "00c14e3a"
   },
   "outputs": [],
   "source": [
    "dummies = pd.get_dummies(df1[['MARITAL STATUS','SEX','EDUCATION','JOB','USE','CAR TYPE',\n",
    "                             'CITY','POSTAL CODE']],\n",
    "                        columns = ['MARITAL STATUS','SEX','EDUCATION','JOB','USE','CAR TYPE',\n",
    "                             'CITY','POSTAL CODE'], \n",
    "                        prefix = ['MARITAL STATUS','SEX','EDUCATION','JOB','USE','CAR TYPE',\n",
    "                             'CITY','POSTAL CODE'],\n",
    "                        drop_first=True).head()"
   ]
  },
  {
   "cell_type": "code",
   "execution_count": null,
   "id": "fd327b76",
   "metadata": {
    "id": "fd327b76",
    "outputId": "ebb9af73-b595-40fc-cc08-07e393a3e8e0"
   },
   "outputs": [
    {
     "data": {
      "text/html": [
       "<div>\n",
       "<style scoped>\n",
       "    .dataframe tbody tr th:only-of-type {\n",
       "        vertical-align: middle;\n",
       "    }\n",
       "\n",
       "    .dataframe tbody tr th {\n",
       "        vertical-align: top;\n",
       "    }\n",
       "\n",
       "    .dataframe thead th {\n",
       "        text-align: right;\n",
       "    }\n",
       "</style>\n",
       "<table border=\"1\" class=\"dataframe\">\n",
       "  <thead>\n",
       "    <tr style=\"text-align: right;\">\n",
       "      <th></th>\n",
       "      <th>MARITAL STATUS_Yes</th>\n",
       "      <th>SEX_M</th>\n",
       "      <th>EDUCATION_High School</th>\n",
       "      <th>EDUCATION_Masters</th>\n",
       "      <th>EDUCATION_PhD</th>\n",
       "      <th>JOB_Clerical</th>\n",
       "      <th>JOB_Doctor</th>\n",
       "      <th>JOB_Home Maker</th>\n",
       "      <th>JOB_Lawyer</th>\n",
       "      <th>JOB_Manager</th>\n",
       "      <th>...</th>\n",
       "      <th>POSTAL CODE_12180.0</th>\n",
       "      <th>POSTAL CODE_42420.0</th>\n",
       "      <th>POSTAL CODE_44123.0</th>\n",
       "      <th>POSTAL CODE_44412.0</th>\n",
       "      <th>POSTAL CODE_47150.0</th>\n",
       "      <th>POSTAL CODE_55106.0</th>\n",
       "      <th>POSTAL CODE_61701.0</th>\n",
       "      <th>POSTAL CODE_78207.0</th>\n",
       "      <th>POSTAL CODE_84057.0</th>\n",
       "      <th>POSTAL CODE_90049.0</th>\n",
       "    </tr>\n",
       "  </thead>\n",
       "  <tbody>\n",
       "    <tr>\n",
       "      <th>0</th>\n",
       "      <td>0</td>\n",
       "      <td>0</td>\n",
       "      <td>0</td>\n",
       "      <td>0</td>\n",
       "      <td>0</td>\n",
       "      <td>0</td>\n",
       "      <td>0</td>\n",
       "      <td>0</td>\n",
       "      <td>0</td>\n",
       "      <td>0</td>\n",
       "      <td>...</td>\n",
       "      <td>0</td>\n",
       "      <td>1</td>\n",
       "      <td>0</td>\n",
       "      <td>0</td>\n",
       "      <td>0</td>\n",
       "      <td>0</td>\n",
       "      <td>0</td>\n",
       "      <td>0</td>\n",
       "      <td>0</td>\n",
       "      <td>0</td>\n",
       "    </tr>\n",
       "    <tr>\n",
       "      <th>1</th>\n",
       "      <td>0</td>\n",
       "      <td>1</td>\n",
       "      <td>1</td>\n",
       "      <td>0</td>\n",
       "      <td>0</td>\n",
       "      <td>0</td>\n",
       "      <td>0</td>\n",
       "      <td>0</td>\n",
       "      <td>0</td>\n",
       "      <td>0</td>\n",
       "      <td>...</td>\n",
       "      <td>0</td>\n",
       "      <td>1</td>\n",
       "      <td>0</td>\n",
       "      <td>0</td>\n",
       "      <td>0</td>\n",
       "      <td>0</td>\n",
       "      <td>0</td>\n",
       "      <td>0</td>\n",
       "      <td>0</td>\n",
       "      <td>0</td>\n",
       "    </tr>\n",
       "    <tr>\n",
       "      <th>2</th>\n",
       "      <td>0</td>\n",
       "      <td>0</td>\n",
       "      <td>0</td>\n",
       "      <td>0</td>\n",
       "      <td>0</td>\n",
       "      <td>1</td>\n",
       "      <td>0</td>\n",
       "      <td>0</td>\n",
       "      <td>0</td>\n",
       "      <td>0</td>\n",
       "      <td>...</td>\n",
       "      <td>0</td>\n",
       "      <td>1</td>\n",
       "      <td>0</td>\n",
       "      <td>0</td>\n",
       "      <td>0</td>\n",
       "      <td>0</td>\n",
       "      <td>0</td>\n",
       "      <td>0</td>\n",
       "      <td>0</td>\n",
       "      <td>0</td>\n",
       "    </tr>\n",
       "    <tr>\n",
       "      <th>3</th>\n",
       "      <td>0</td>\n",
       "      <td>0</td>\n",
       "      <td>1</td>\n",
       "      <td>0</td>\n",
       "      <td>0</td>\n",
       "      <td>0</td>\n",
       "      <td>0</td>\n",
       "      <td>0</td>\n",
       "      <td>1</td>\n",
       "      <td>0</td>\n",
       "      <td>...</td>\n",
       "      <td>0</td>\n",
       "      <td>1</td>\n",
       "      <td>0</td>\n",
       "      <td>0</td>\n",
       "      <td>0</td>\n",
       "      <td>0</td>\n",
       "      <td>0</td>\n",
       "      <td>0</td>\n",
       "      <td>0</td>\n",
       "      <td>0</td>\n",
       "    </tr>\n",
       "    <tr>\n",
       "      <th>4</th>\n",
       "      <td>0</td>\n",
       "      <td>1</td>\n",
       "      <td>1</td>\n",
       "      <td>0</td>\n",
       "      <td>0</td>\n",
       "      <td>0</td>\n",
       "      <td>0</td>\n",
       "      <td>0</td>\n",
       "      <td>0</td>\n",
       "      <td>0</td>\n",
       "      <td>...</td>\n",
       "      <td>0</td>\n",
       "      <td>1</td>\n",
       "      <td>0</td>\n",
       "      <td>0</td>\n",
       "      <td>0</td>\n",
       "      <td>0</td>\n",
       "      <td>0</td>\n",
       "      <td>0</td>\n",
       "      <td>0</td>\n",
       "      <td>0</td>\n",
       "    </tr>\n",
       "  </tbody>\n",
       "</table>\n",
       "<p>5 rows × 38 columns</p>\n",
       "</div>"
      ],
      "text/plain": [
       "   MARITAL STATUS_Yes  SEX_M  EDUCATION_High School  EDUCATION_Masters  \\\n",
       "0                   0      0                      0                  0   \n",
       "1                   0      1                      1                  0   \n",
       "2                   0      0                      0                  0   \n",
       "3                   0      0                      1                  0   \n",
       "4                   0      1                      1                  0   \n",
       "\n",
       "   EDUCATION_PhD  JOB_Clerical  JOB_Doctor  JOB_Home Maker  JOB_Lawyer  \\\n",
       "0              0             0           0               0           0   \n",
       "1              0             0           0               0           0   \n",
       "2              0             1           0               0           0   \n",
       "3              0             0           0               0           1   \n",
       "4              0             0           0               0           0   \n",
       "\n",
       "   JOB_Manager  ...  POSTAL CODE_12180.0  POSTAL CODE_42420.0  \\\n",
       "0            0  ...                    0                    1   \n",
       "1            0  ...                    0                    1   \n",
       "2            0  ...                    0                    1   \n",
       "3            0  ...                    0                    1   \n",
       "4            0  ...                    0                    1   \n",
       "\n",
       "   POSTAL CODE_44123.0  POSTAL CODE_44412.0  POSTAL CODE_47150.0  \\\n",
       "0                    0                    0                    0   \n",
       "1                    0                    0                    0   \n",
       "2                    0                    0                    0   \n",
       "3                    0                    0                    0   \n",
       "4                    0                    0                    0   \n",
       "\n",
       "   POSTAL CODE_55106.0  POSTAL CODE_61701.0  POSTAL CODE_78207.0  \\\n",
       "0                    0                    0                    0   \n",
       "1                    0                    0                    0   \n",
       "2                    0                    0                    0   \n",
       "3                    0                    0                    0   \n",
       "4                    0                    0                    0   \n",
       "\n",
       "   POSTAL CODE_84057.0  POSTAL CODE_90049.0  \n",
       "0                    0                    0  \n",
       "1                    0                    0  \n",
       "2                    0                    0  \n",
       "3                    0                    0  \n",
       "4                    0                    0  \n",
       "\n",
       "[5 rows x 38 columns]"
      ]
     },
     "execution_count": 63,
     "metadata": {},
     "output_type": "execute_result"
    }
   ],
   "source": [
    "dummies.head()"
   ]
  },
  {
   "cell_type": "code",
   "execution_count": null,
   "id": "879fc96a",
   "metadata": {
    "id": "879fc96a",
    "outputId": "51904598-7f29-4fe0-a360-31ffb92c5088"
   },
   "outputs": [
    {
     "data": {
      "text/plain": [
       "Index(['MARITAL STATUS_Yes', 'SEX_M', 'EDUCATION_High School',\n",
       "       'EDUCATION_Masters', 'EDUCATION_PhD', 'JOB_Clerical', 'JOB_Doctor',\n",
       "       'JOB_Home Maker', 'JOB_Lawyer', 'JOB_Manager', 'JOB_Professional',\n",
       "       'JOB_Student', 'USE_Private', 'CAR TYPE_Panel Truck', 'CAR TYPE_Pickup',\n",
       "       'CAR TYPE_SUV', 'CAR TYPE_Sports Car', 'CAR TYPE_Van', 'CITY_Houston',\n",
       "       'CITY_Las Vegas', 'CITY_Los Angeles', 'CITY_New Albany',\n",
       "       'CITY_New York City', 'CITY_Philadelphia', 'CITY_San Francisco',\n",
       "       'CITY_Seattle', 'CITY_Texas', 'CITY_Washington', 'POSTAL CODE_12180.0',\n",
       "       'POSTAL CODE_42420.0', 'POSTAL CODE_44123.0', 'POSTAL CODE_44412.0',\n",
       "       'POSTAL CODE_47150.0', 'POSTAL CODE_55106.0', 'POSTAL CODE_61701.0',\n",
       "       'POSTAL CODE_78207.0', 'POSTAL CODE_84057.0', 'POSTAL CODE_90049.0'],\n",
       "      dtype='object')"
      ]
     },
     "execution_count": 64,
     "metadata": {},
     "output_type": "execute_result"
    }
   ],
   "source": [
    "dummies.columns"
   ]
  },
  {
   "cell_type": "code",
   "execution_count": null,
   "id": "b1b10e33",
   "metadata": {
    "id": "b1b10e33"
   },
   "outputs": [],
   "source": []
  },
  {
   "cell_type": "markdown",
   "id": "b5759a22",
   "metadata": {
    "id": "b5759a22"
   },
   "source": [
    "# Feature Scaling"
   ]
  },
  {
   "cell_type": "code",
   "execution_count": null,
   "id": "ead2e14f",
   "metadata": {
    "id": "ead2e14f",
    "outputId": "152ee3a3-ed11-453b-d3f3-b35b875706af"
   },
   "outputs": [
    {
     "data": {
      "text/plain": [
       "StandardScaler()"
      ]
     },
     "execution_count": 68,
     "metadata": {},
     "output_type": "execute_result"
    }
   ],
   "source": [
    "from sklearn.preprocessing import StandardScaler\n",
    "scaler = StandardScaler()\n",
    "scaler"
   ]
  },
  {
   "cell_type": "code",
   "execution_count": null,
   "id": "dbf2c184",
   "metadata": {
    "id": "dbf2c184"
   },
   "outputs": [],
   "source": [
    "df1['INCOME'] = scaler.fit_transform(df1[['INCOME']])\n",
    "df1['TRAVEL TIME'] = scaler.fit_transform(df1[['TRAVEL TIME']])\n",
    "df1['MILES CLOCKED'] = scaler.fit_transform(df1[['MILES CLOCKED']])\n",
    "df1['CAR AGE'] = scaler.fit_transform(df1[['CAR AGE']])"
   ]
  },
  {
   "cell_type": "code",
   "execution_count": null,
   "id": "65e7faf5",
   "metadata": {
    "id": "65e7faf5",
    "outputId": "88a56499-6bb5-4120-c7a9-9d7a46b7dca5"
   },
   "outputs": [
    {
     "data": {
      "text/html": [
       "<div>\n",
       "<style scoped>\n",
       "    .dataframe tbody tr th:only-of-type {\n",
       "        vertical-align: middle;\n",
       "    }\n",
       "\n",
       "    .dataframe tbody tr th {\n",
       "        vertical-align: top;\n",
       "    }\n",
       "\n",
       "    .dataframe thead th {\n",
       "        text-align: right;\n",
       "    }\n",
       "</style>\n",
       "<table border=\"1\" class=\"dataframe\">\n",
       "  <thead>\n",
       "    <tr style=\"text-align: right;\">\n",
       "      <th></th>\n",
       "      <th>INCOME</th>\n",
       "      <th>MARITAL STATUS</th>\n",
       "      <th>SEX</th>\n",
       "      <th>EDUCATION</th>\n",
       "      <th>JOB</th>\n",
       "      <th>TRAVEL TIME</th>\n",
       "      <th>USE</th>\n",
       "      <th>MILES CLOCKED</th>\n",
       "      <th>CAR TYPE</th>\n",
       "      <th>CAR AGE</th>\n",
       "      <th>CITY</th>\n",
       "      <th>POSTAL CODE</th>\n",
       "    </tr>\n",
       "  </thead>\n",
       "  <tbody>\n",
       "    <tr>\n",
       "      <th>0</th>\n",
       "      <td>2.344391</td>\n",
       "      <td>No</td>\n",
       "      <td>F</td>\n",
       "      <td>Bachelors</td>\n",
       "      <td>Blue Collar</td>\n",
       "      <td>0.832200</td>\n",
       "      <td>Commercial</td>\n",
       "      <td>0.535034</td>\n",
       "      <td>Sports Car</td>\n",
       "      <td>0.132744</td>\n",
       "      <td>Texas</td>\n",
       "      <td>42420.0</td>\n",
       "    </tr>\n",
       "    <tr>\n",
       "      <th>1</th>\n",
       "      <td>0.139393</td>\n",
       "      <td>No</td>\n",
       "      <td>M</td>\n",
       "      <td>High School</td>\n",
       "      <td>Blue Collar</td>\n",
       "      <td>-0.991124</td>\n",
       "      <td>Private</td>\n",
       "      <td>0.754768</td>\n",
       "      <td>Minivan</td>\n",
       "      <td>-1.057530</td>\n",
       "      <td>Texas</td>\n",
       "      <td>42420.0</td>\n",
       "    </tr>\n",
       "    <tr>\n",
       "      <th>2</th>\n",
       "      <td>0.499435</td>\n",
       "      <td>No</td>\n",
       "      <td>F</td>\n",
       "      <td>Bachelors</td>\n",
       "      <td>Clerical</td>\n",
       "      <td>-0.043693</td>\n",
       "      <td>Private</td>\n",
       "      <td>-0.136620</td>\n",
       "      <td>SUV</td>\n",
       "      <td>-1.057530</td>\n",
       "      <td>Texas</td>\n",
       "      <td>42420.0</td>\n",
       "    </tr>\n",
       "    <tr>\n",
       "      <th>3</th>\n",
       "      <td>0.917492</td>\n",
       "      <td>No</td>\n",
       "      <td>F</td>\n",
       "      <td>High School</td>\n",
       "      <td>Lawyer</td>\n",
       "      <td>-1.366947</td>\n",
       "      <td>Private</td>\n",
       "      <td>0.662480</td>\n",
       "      <td>Sports Car</td>\n",
       "      <td>0.926260</td>\n",
       "      <td>Texas</td>\n",
       "      <td>42420.0</td>\n",
       "    </tr>\n",
       "    <tr>\n",
       "      <th>4</th>\n",
       "      <td>2.391357</td>\n",
       "      <td>No</td>\n",
       "      <td>M</td>\n",
       "      <td>High School</td>\n",
       "      <td>Blue Collar</td>\n",
       "      <td>0.013415</td>\n",
       "      <td>Commercial</td>\n",
       "      <td>2.133234</td>\n",
       "      <td>Panel Truck</td>\n",
       "      <td>0.727881</td>\n",
       "      <td>Texas</td>\n",
       "      <td>42420.0</td>\n",
       "    </tr>\n",
       "  </tbody>\n",
       "</table>\n",
       "</div>"
      ],
      "text/plain": [
       "     INCOME MARITAL STATUS SEX    EDUCATION          JOB  TRAVEL TIME  \\\n",
       "0  2.344391             No   F    Bachelors  Blue Collar     0.832200   \n",
       "1  0.139393             No   M  High School  Blue Collar    -0.991124   \n",
       "2  0.499435             No   F    Bachelors     Clerical    -0.043693   \n",
       "3  0.917492             No   F  High School       Lawyer    -1.366947   \n",
       "4  2.391357             No   M  High School  Blue Collar     0.013415   \n",
       "\n",
       "          USE  MILES CLOCKED     CAR TYPE   CAR AGE   CITY POSTAL CODE  \n",
       "0  Commercial       0.535034   Sports Car  0.132744  Texas     42420.0  \n",
       "1     Private       0.754768      Minivan -1.057530  Texas     42420.0  \n",
       "2     Private      -0.136620          SUV -1.057530  Texas     42420.0  \n",
       "3     Private       0.662480   Sports Car  0.926260  Texas     42420.0  \n",
       "4  Commercial       2.133234  Panel Truck  0.727881  Texas     42420.0  "
      ]
     },
     "execution_count": 70,
     "metadata": {},
     "output_type": "execute_result"
    }
   ],
   "source": [
    "df1.head()"
   ]
  },
  {
   "cell_type": "code",
   "execution_count": null,
   "id": "7e95a2af",
   "metadata": {
    "id": "7e95a2af",
    "outputId": "00e5edc5-dc8b-4ff8-c532-f3295c1d6607"
   },
   "outputs": [
    {
     "data": {
      "text/html": [
       "<div>\n",
       "<style scoped>\n",
       "    .dataframe tbody tr th:only-of-type {\n",
       "        vertical-align: middle;\n",
       "    }\n",
       "\n",
       "    .dataframe tbody tr th {\n",
       "        vertical-align: top;\n",
       "    }\n",
       "\n",
       "    .dataframe thead th {\n",
       "        text-align: right;\n",
       "    }\n",
       "</style>\n",
       "<table border=\"1\" class=\"dataframe\">\n",
       "  <thead>\n",
       "    <tr style=\"text-align: right;\">\n",
       "      <th></th>\n",
       "      <th>INCOME</th>\n",
       "      <th>TRAVEL TIME</th>\n",
       "      <th>MILES CLOCKED</th>\n",
       "      <th>CAR AGE</th>\n",
       "    </tr>\n",
       "  </thead>\n",
       "  <tbody>\n",
       "    <tr>\n",
       "      <th>count</th>\n",
       "      <td>246.000000</td>\n",
       "      <td>248.000000</td>\n",
       "      <td>264.000000</td>\n",
       "      <td>269.000000</td>\n",
       "    </tr>\n",
       "    <tr>\n",
       "      <th>mean</th>\n",
       "      <td>49229.059901</td>\n",
       "      <td>34.370438</td>\n",
       "      <td>13893.825758</td>\n",
       "      <td>6.330855</td>\n",
       "    </tr>\n",
       "    <tr>\n",
       "      <th>std</th>\n",
       "      <td>42207.456592</td>\n",
       "      <td>15.322125</td>\n",
       "      <td>7231.117284</td>\n",
       "      <td>5.234627</td>\n",
       "    </tr>\n",
       "    <tr>\n",
       "      <th>min</th>\n",
       "      <td>0.000000</td>\n",
       "      <td>5.000000</td>\n",
       "      <td>1500.000000</td>\n",
       "      <td>1.000000</td>\n",
       "    </tr>\n",
       "    <tr>\n",
       "      <th>25%</th>\n",
       "      <td>18499.955555</td>\n",
       "      <td>23.633340</td>\n",
       "      <td>7880.000000</td>\n",
       "      <td>1.000000</td>\n",
       "    </tr>\n",
       "    <tr>\n",
       "      <th>50%</th>\n",
       "      <td>40171.535635</td>\n",
       "      <td>34.426446</td>\n",
       "      <td>12845.000000</td>\n",
       "      <td>6.000000</td>\n",
       "    </tr>\n",
       "    <tr>\n",
       "      <th>75%</th>\n",
       "      <td>69429.320040</td>\n",
       "      <td>44.279590</td>\n",
       "      <td>18570.000000</td>\n",
       "      <td>10.000000</td>\n",
       "    </tr>\n",
       "    <tr>\n",
       "      <th>max</th>\n",
       "      <td>204667.589700</td>\n",
       "      <td>83.617643</td>\n",
       "      <td>38000.000000</td>\n",
       "      <td>20.000000</td>\n",
       "    </tr>\n",
       "  </tbody>\n",
       "</table>\n",
       "</div>"
      ],
      "text/plain": [
       "              INCOME  TRAVEL TIME  MILES CLOCKED     CAR AGE\n",
       "count     246.000000   248.000000     264.000000  269.000000\n",
       "mean    49229.059901    34.370438   13893.825758    6.330855\n",
       "std     42207.456592    15.322125    7231.117284    5.234627\n",
       "min         0.000000     5.000000    1500.000000    1.000000\n",
       "25%     18499.955555    23.633340    7880.000000    1.000000\n",
       "50%     40171.535635    34.426446   12845.000000    6.000000\n",
       "75%     69429.320040    44.279590   18570.000000   10.000000\n",
       "max    204667.589700    83.617643   38000.000000   20.000000"
      ]
     },
     "execution_count": 72,
     "metadata": {},
     "output_type": "execute_result"
    }
   ],
   "source": [
    "df.describe()"
   ]
  },
  {
   "cell_type": "code",
   "execution_count": null,
   "id": "8cc9ce6d",
   "metadata": {
    "id": "8cc9ce6d",
    "outputId": "5600bfa3-4341-42fe-9bdd-5c22781c04f9"
   },
   "outputs": [
    {
     "data": {
      "text/html": [
       "<div>\n",
       "<style scoped>\n",
       "    .dataframe tbody tr th:only-of-type {\n",
       "        vertical-align: middle;\n",
       "    }\n",
       "\n",
       "    .dataframe tbody tr th {\n",
       "        vertical-align: top;\n",
       "    }\n",
       "\n",
       "    .dataframe thead th {\n",
       "        text-align: right;\n",
       "    }\n",
       "</style>\n",
       "<table border=\"1\" class=\"dataframe\">\n",
       "  <thead>\n",
       "    <tr style=\"text-align: right;\">\n",
       "      <th></th>\n",
       "      <th>INCOME</th>\n",
       "      <th>MARITAL STATUS</th>\n",
       "      <th>SEX</th>\n",
       "      <th>EDUCATION</th>\n",
       "      <th>JOB</th>\n",
       "      <th>TRAVEL TIME</th>\n",
       "      <th>USE</th>\n",
       "      <th>MILES CLOCKED</th>\n",
       "      <th>CAR TYPE</th>\n",
       "      <th>CAR AGE</th>\n",
       "      <th>CITY</th>\n",
       "      <th>POSTAL CODE</th>\n",
       "    </tr>\n",
       "  </thead>\n",
       "  <tbody>\n",
       "    <tr>\n",
       "      <th>0</th>\n",
       "      <td>2.344391</td>\n",
       "      <td>No</td>\n",
       "      <td>F</td>\n",
       "      <td>Bachelors</td>\n",
       "      <td>Blue Collar</td>\n",
       "      <td>0.8322</td>\n",
       "      <td>Commercial</td>\n",
       "      <td>0.535034</td>\n",
       "      <td>Sports Car</td>\n",
       "      <td>0.132744</td>\n",
       "      <td>Texas</td>\n",
       "      <td>42420.0</td>\n",
       "    </tr>\n",
       "  </tbody>\n",
       "</table>\n",
       "</div>"
      ],
      "text/plain": [
       "     INCOME MARITAL STATUS SEX  EDUCATION          JOB  TRAVEL TIME  \\\n",
       "0  2.344391             No   F  Bachelors  Blue Collar       0.8322   \n",
       "\n",
       "          USE  MILES CLOCKED    CAR TYPE   CAR AGE   CITY POSTAL CODE  \n",
       "0  Commercial       0.535034  Sports Car  0.132744  Texas     42420.0  "
      ]
     },
     "execution_count": 73,
     "metadata": {},
     "output_type": "execute_result"
    }
   ],
   "source": [
    "df1.head(1)"
   ]
  },
  {
   "cell_type": "code",
   "execution_count": null,
   "id": "33064e8d",
   "metadata": {
    "id": "33064e8d"
   },
   "outputs": [],
   "source": [
    "df1 = df1.drop(['MARITAL STATUS','SEX','EDUCATION','JOB','USE','CAR TYPE','CITY',\n",
    "               'POSTAL CODE'], axis=1)"
   ]
  },
  {
   "cell_type": "code",
   "execution_count": null,
   "id": "e451eb68",
   "metadata": {
    "id": "e451eb68",
    "outputId": "0a78c8ca-108d-47b1-b499-0bd0afc0fcc8"
   },
   "outputs": [
    {
     "data": {
      "text/html": [
       "<div>\n",
       "<style scoped>\n",
       "    .dataframe tbody tr th:only-of-type {\n",
       "        vertical-align: middle;\n",
       "    }\n",
       "\n",
       "    .dataframe tbody tr th {\n",
       "        vertical-align: top;\n",
       "    }\n",
       "\n",
       "    .dataframe thead th {\n",
       "        text-align: right;\n",
       "    }\n",
       "</style>\n",
       "<table border=\"1\" class=\"dataframe\">\n",
       "  <thead>\n",
       "    <tr style=\"text-align: right;\">\n",
       "      <th></th>\n",
       "      <th>INCOME</th>\n",
       "      <th>TRAVEL TIME</th>\n",
       "      <th>MILES CLOCKED</th>\n",
       "      <th>CAR AGE</th>\n",
       "    </tr>\n",
       "  </thead>\n",
       "  <tbody>\n",
       "    <tr>\n",
       "      <th>0</th>\n",
       "      <td>2.344391</td>\n",
       "      <td>0.8322</td>\n",
       "      <td>0.535034</td>\n",
       "      <td>0.132744</td>\n",
       "    </tr>\n",
       "  </tbody>\n",
       "</table>\n",
       "</div>"
      ],
      "text/plain": [
       "     INCOME  TRAVEL TIME  MILES CLOCKED   CAR AGE\n",
       "0  2.344391       0.8322       0.535034  0.132744"
      ]
     },
     "execution_count": 76,
     "metadata": {},
     "output_type": "execute_result"
    }
   ],
   "source": [
    "df1.head(1)"
   ]
  },
  {
   "cell_type": "code",
   "execution_count": null,
   "id": "a1bad58a",
   "metadata": {
    "id": "a1bad58a",
    "outputId": "0ab04912-c327-45ad-e91d-1995665e0af9"
   },
   "outputs": [
    {
     "data": {
      "text/html": [
       "<div>\n",
       "<style scoped>\n",
       "    .dataframe tbody tr th:only-of-type {\n",
       "        vertical-align: middle;\n",
       "    }\n",
       "\n",
       "    .dataframe tbody tr th {\n",
       "        vertical-align: top;\n",
       "    }\n",
       "\n",
       "    .dataframe thead th {\n",
       "        text-align: right;\n",
       "    }\n",
       "</style>\n",
       "<table border=\"1\" class=\"dataframe\">\n",
       "  <thead>\n",
       "    <tr style=\"text-align: right;\">\n",
       "      <th></th>\n",
       "      <th>MARITAL STATUS_Yes</th>\n",
       "      <th>SEX_M</th>\n",
       "      <th>EDUCATION_High School</th>\n",
       "      <th>EDUCATION_Masters</th>\n",
       "      <th>EDUCATION_PhD</th>\n",
       "      <th>JOB_Clerical</th>\n",
       "      <th>JOB_Doctor</th>\n",
       "      <th>JOB_Home Maker</th>\n",
       "      <th>JOB_Lawyer</th>\n",
       "      <th>JOB_Manager</th>\n",
       "      <th>...</th>\n",
       "      <th>POSTAL CODE_12180.0</th>\n",
       "      <th>POSTAL CODE_42420.0</th>\n",
       "      <th>POSTAL CODE_44123.0</th>\n",
       "      <th>POSTAL CODE_44412.0</th>\n",
       "      <th>POSTAL CODE_47150.0</th>\n",
       "      <th>POSTAL CODE_55106.0</th>\n",
       "      <th>POSTAL CODE_61701.0</th>\n",
       "      <th>POSTAL CODE_78207.0</th>\n",
       "      <th>POSTAL CODE_84057.0</th>\n",
       "      <th>POSTAL CODE_90049.0</th>\n",
       "    </tr>\n",
       "  </thead>\n",
       "  <tbody>\n",
       "    <tr>\n",
       "      <th>0</th>\n",
       "      <td>0</td>\n",
       "      <td>0</td>\n",
       "      <td>0</td>\n",
       "      <td>0</td>\n",
       "      <td>0</td>\n",
       "      <td>0</td>\n",
       "      <td>0</td>\n",
       "      <td>0</td>\n",
       "      <td>0</td>\n",
       "      <td>0</td>\n",
       "      <td>...</td>\n",
       "      <td>0</td>\n",
       "      <td>1</td>\n",
       "      <td>0</td>\n",
       "      <td>0</td>\n",
       "      <td>0</td>\n",
       "      <td>0</td>\n",
       "      <td>0</td>\n",
       "      <td>0</td>\n",
       "      <td>0</td>\n",
       "      <td>0</td>\n",
       "    </tr>\n",
       "  </tbody>\n",
       "</table>\n",
       "<p>1 rows × 38 columns</p>\n",
       "</div>"
      ],
      "text/plain": [
       "   MARITAL STATUS_Yes  SEX_M  EDUCATION_High School  EDUCATION_Masters  \\\n",
       "0                   0      0                      0                  0   \n",
       "\n",
       "   EDUCATION_PhD  JOB_Clerical  JOB_Doctor  JOB_Home Maker  JOB_Lawyer  \\\n",
       "0              0             0           0               0           0   \n",
       "\n",
       "   JOB_Manager  ...  POSTAL CODE_12180.0  POSTAL CODE_42420.0  \\\n",
       "0            0  ...                    0                    1   \n",
       "\n",
       "   POSTAL CODE_44123.0  POSTAL CODE_44412.0  POSTAL CODE_47150.0  \\\n",
       "0                    0                    0                    0   \n",
       "\n",
       "   POSTAL CODE_55106.0  POSTAL CODE_61701.0  POSTAL CODE_78207.0  \\\n",
       "0                    0                    0                    0   \n",
       "\n",
       "   POSTAL CODE_84057.0  POSTAL CODE_90049.0  \n",
       "0                    0                    0  \n",
       "\n",
       "[1 rows x 38 columns]"
      ]
     },
     "execution_count": 74,
     "metadata": {},
     "output_type": "execute_result"
    }
   ],
   "source": [
    "dummies.head(1)"
   ]
  },
  {
   "cell_type": "code",
   "execution_count": null,
   "id": "d192449a",
   "metadata": {
    "id": "d192449a"
   },
   "outputs": [],
   "source": [
    "final_df = pd.concat([df1, dummies], axis=1)"
   ]
  },
  {
   "cell_type": "code",
   "execution_count": null,
   "id": "cdfe2cc1",
   "metadata": {
    "id": "cdfe2cc1",
    "outputId": "13807761-3a66-4a19-d75c-cfe3d842d678"
   },
   "outputs": [
    {
     "data": {
      "text/html": [
       "<div>\n",
       "<style scoped>\n",
       "    .dataframe tbody tr th:only-of-type {\n",
       "        vertical-align: middle;\n",
       "    }\n",
       "\n",
       "    .dataframe tbody tr th {\n",
       "        vertical-align: top;\n",
       "    }\n",
       "\n",
       "    .dataframe thead th {\n",
       "        text-align: right;\n",
       "    }\n",
       "</style>\n",
       "<table border=\"1\" class=\"dataframe\">\n",
       "  <thead>\n",
       "    <tr style=\"text-align: right;\">\n",
       "      <th></th>\n",
       "      <th>INCOME</th>\n",
       "      <th>TRAVEL TIME</th>\n",
       "      <th>MILES CLOCKED</th>\n",
       "      <th>CAR AGE</th>\n",
       "      <th>MARITAL STATUS_Yes</th>\n",
       "      <th>SEX_M</th>\n",
       "      <th>EDUCATION_High School</th>\n",
       "      <th>EDUCATION_Masters</th>\n",
       "      <th>EDUCATION_PhD</th>\n",
       "      <th>JOB_Clerical</th>\n",
       "      <th>...</th>\n",
       "      <th>POSTAL CODE_12180.0</th>\n",
       "      <th>POSTAL CODE_42420.0</th>\n",
       "      <th>POSTAL CODE_44123.0</th>\n",
       "      <th>POSTAL CODE_44412.0</th>\n",
       "      <th>POSTAL CODE_47150.0</th>\n",
       "      <th>POSTAL CODE_55106.0</th>\n",
       "      <th>POSTAL CODE_61701.0</th>\n",
       "      <th>POSTAL CODE_78207.0</th>\n",
       "      <th>POSTAL CODE_84057.0</th>\n",
       "      <th>POSTAL CODE_90049.0</th>\n",
       "    </tr>\n",
       "  </thead>\n",
       "  <tbody>\n",
       "    <tr>\n",
       "      <th>0</th>\n",
       "      <td>2.344391</td>\n",
       "      <td>0.832200</td>\n",
       "      <td>0.535034</td>\n",
       "      <td>0.132744</td>\n",
       "      <td>0.0</td>\n",
       "      <td>0.0</td>\n",
       "      <td>0.0</td>\n",
       "      <td>0.0</td>\n",
       "      <td>0.0</td>\n",
       "      <td>0.0</td>\n",
       "      <td>...</td>\n",
       "      <td>0.0</td>\n",
       "      <td>1.0</td>\n",
       "      <td>0.0</td>\n",
       "      <td>0.0</td>\n",
       "      <td>0.0</td>\n",
       "      <td>0.0</td>\n",
       "      <td>0.0</td>\n",
       "      <td>0.0</td>\n",
       "      <td>0.0</td>\n",
       "      <td>0.0</td>\n",
       "    </tr>\n",
       "    <tr>\n",
       "      <th>1</th>\n",
       "      <td>0.139393</td>\n",
       "      <td>-0.991124</td>\n",
       "      <td>0.754768</td>\n",
       "      <td>-1.057530</td>\n",
       "      <td>0.0</td>\n",
       "      <td>1.0</td>\n",
       "      <td>1.0</td>\n",
       "      <td>0.0</td>\n",
       "      <td>0.0</td>\n",
       "      <td>0.0</td>\n",
       "      <td>...</td>\n",
       "      <td>0.0</td>\n",
       "      <td>1.0</td>\n",
       "      <td>0.0</td>\n",
       "      <td>0.0</td>\n",
       "      <td>0.0</td>\n",
       "      <td>0.0</td>\n",
       "      <td>0.0</td>\n",
       "      <td>0.0</td>\n",
       "      <td>0.0</td>\n",
       "      <td>0.0</td>\n",
       "    </tr>\n",
       "    <tr>\n",
       "      <th>2</th>\n",
       "      <td>0.499435</td>\n",
       "      <td>-0.043693</td>\n",
       "      <td>-0.136620</td>\n",
       "      <td>-1.057530</td>\n",
       "      <td>0.0</td>\n",
       "      <td>0.0</td>\n",
       "      <td>0.0</td>\n",
       "      <td>0.0</td>\n",
       "      <td>0.0</td>\n",
       "      <td>1.0</td>\n",
       "      <td>...</td>\n",
       "      <td>0.0</td>\n",
       "      <td>1.0</td>\n",
       "      <td>0.0</td>\n",
       "      <td>0.0</td>\n",
       "      <td>0.0</td>\n",
       "      <td>0.0</td>\n",
       "      <td>0.0</td>\n",
       "      <td>0.0</td>\n",
       "      <td>0.0</td>\n",
       "      <td>0.0</td>\n",
       "    </tr>\n",
       "    <tr>\n",
       "      <th>3</th>\n",
       "      <td>0.917492</td>\n",
       "      <td>-1.366947</td>\n",
       "      <td>0.662480</td>\n",
       "      <td>0.926260</td>\n",
       "      <td>0.0</td>\n",
       "      <td>0.0</td>\n",
       "      <td>1.0</td>\n",
       "      <td>0.0</td>\n",
       "      <td>0.0</td>\n",
       "      <td>0.0</td>\n",
       "      <td>...</td>\n",
       "      <td>0.0</td>\n",
       "      <td>1.0</td>\n",
       "      <td>0.0</td>\n",
       "      <td>0.0</td>\n",
       "      <td>0.0</td>\n",
       "      <td>0.0</td>\n",
       "      <td>0.0</td>\n",
       "      <td>0.0</td>\n",
       "      <td>0.0</td>\n",
       "      <td>0.0</td>\n",
       "    </tr>\n",
       "    <tr>\n",
       "      <th>4</th>\n",
       "      <td>2.391357</td>\n",
       "      <td>0.013415</td>\n",
       "      <td>2.133234</td>\n",
       "      <td>0.727881</td>\n",
       "      <td>0.0</td>\n",
       "      <td>1.0</td>\n",
       "      <td>1.0</td>\n",
       "      <td>0.0</td>\n",
       "      <td>0.0</td>\n",
       "      <td>0.0</td>\n",
       "      <td>...</td>\n",
       "      <td>0.0</td>\n",
       "      <td>1.0</td>\n",
       "      <td>0.0</td>\n",
       "      <td>0.0</td>\n",
       "      <td>0.0</td>\n",
       "      <td>0.0</td>\n",
       "      <td>0.0</td>\n",
       "      <td>0.0</td>\n",
       "      <td>0.0</td>\n",
       "      <td>0.0</td>\n",
       "    </tr>\n",
       "  </tbody>\n",
       "</table>\n",
       "<p>5 rows × 42 columns</p>\n",
       "</div>"
      ],
      "text/plain": [
       "     INCOME  TRAVEL TIME  MILES CLOCKED   CAR AGE  MARITAL STATUS_Yes  SEX_M  \\\n",
       "0  2.344391     0.832200       0.535034  0.132744                 0.0    0.0   \n",
       "1  0.139393    -0.991124       0.754768 -1.057530                 0.0    1.0   \n",
       "2  0.499435    -0.043693      -0.136620 -1.057530                 0.0    0.0   \n",
       "3  0.917492    -1.366947       0.662480  0.926260                 0.0    0.0   \n",
       "4  2.391357     0.013415       2.133234  0.727881                 0.0    1.0   \n",
       "\n",
       "   EDUCATION_High School  EDUCATION_Masters  EDUCATION_PhD  JOB_Clerical  ...  \\\n",
       "0                    0.0                0.0            0.0           0.0  ...   \n",
       "1                    1.0                0.0            0.0           0.0  ...   \n",
       "2                    0.0                0.0            0.0           1.0  ...   \n",
       "3                    1.0                0.0            0.0           0.0  ...   \n",
       "4                    1.0                0.0            0.0           0.0  ...   \n",
       "\n",
       "   POSTAL CODE_12180.0  POSTAL CODE_42420.0  POSTAL CODE_44123.0  \\\n",
       "0                  0.0                  1.0                  0.0   \n",
       "1                  0.0                  1.0                  0.0   \n",
       "2                  0.0                  1.0                  0.0   \n",
       "3                  0.0                  1.0                  0.0   \n",
       "4                  0.0                  1.0                  0.0   \n",
       "\n",
       "   POSTAL CODE_44412.0  POSTAL CODE_47150.0  POSTAL CODE_55106.0  \\\n",
       "0                  0.0                  0.0                  0.0   \n",
       "1                  0.0                  0.0                  0.0   \n",
       "2                  0.0                  0.0                  0.0   \n",
       "3                  0.0                  0.0                  0.0   \n",
       "4                  0.0                  0.0                  0.0   \n",
       "\n",
       "   POSTAL CODE_61701.0  POSTAL CODE_78207.0  POSTAL CODE_84057.0  \\\n",
       "0                  0.0                  0.0                  0.0   \n",
       "1                  0.0                  0.0                  0.0   \n",
       "2                  0.0                  0.0                  0.0   \n",
       "3                  0.0                  0.0                  0.0   \n",
       "4                  0.0                  0.0                  0.0   \n",
       "\n",
       "   POSTAL CODE_90049.0  \n",
       "0                  0.0  \n",
       "1                  0.0  \n",
       "2                  0.0  \n",
       "3                  0.0  \n",
       "4                  0.0  \n",
       "\n",
       "[5 rows x 42 columns]"
      ]
     },
     "execution_count": 78,
     "metadata": {},
     "output_type": "execute_result"
    }
   ],
   "source": [
    "final_df.head()"
   ]
  },
  {
   "cell_type": "code",
   "execution_count": null,
   "id": "c8163962",
   "metadata": {
    "id": "c8163962"
   },
   "outputs": [],
   "source": []
  },
  {
   "cell_type": "code",
   "execution_count": null,
   "id": "afb35421",
   "metadata": {
    "id": "afb35421"
   },
   "outputs": [],
   "source": [
    "# export the data \n",
    "final_df.to_csv(\"final_df.csv\")"
   ]
  },
  {
   "cell_type": "code",
   "execution_count": null,
   "id": "3730d804",
   "metadata": {
    "id": "3730d804"
   },
   "outputs": [],
   "source": []
  }
 ],
 "metadata": {
  "colab": {
   "provenance": []
  },
  "kernelspec": {
   "display_name": "Python 3 (ipykernel)",
   "language": "python",
   "name": "python3"
  },
  "language_info": {
   "codemirror_mode": {
    "name": "ipython",
    "version": 3
   },
   "file_extension": ".py",
   "mimetype": "text/x-python",
   "name": "python",
   "nbconvert_exporter": "python",
   "pygments_lexer": "ipython3",
   "version": "3.12.7"
  }
 },
 "nbformat": 4,
 "nbformat_minor": 5
}
